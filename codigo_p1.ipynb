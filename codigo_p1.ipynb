{
 "cells": [
  {
   "cell_type": "markdown",
   "id": "034ee773",
   "metadata": {},
   "source": [
    "# Analisis de datos"
   ]
  },
  {
   "cell_type": "markdown",
   "id": "f013117e",
   "metadata": {},
   "source": [
    "## Importe de librerias"
   ]
  },
  {
   "cell_type": "code",
   "execution_count": null,
   "id": "dcc511ad",
   "metadata": {},
   "outputs": [],
   "source": [
    "import numpy as np\n",
    "import pandas as pd"
   ]
  },
  {
   "cell_type": "markdown",
   "id": "cbcfc972",
   "metadata": {},
   "source": [
    "## Lectura de datos"
   ]
  },
  {
   "cell_type": "code",
   "execution_count": null,
   "id": "82e6b084",
   "metadata": {},
   "outputs": [],
   "source": [
    "# Ruta de la carpeta donde están los archivos\n",
    "carpeta = r\"C:\\Users\\pinto\\OneDrive\\Documentos\\DK\\Prueba Técnica Cientifico de Datos\\Prueba tecnica 1\"\n",
    "\n",
    "# Nombres de los archivos\n",
    "archivos = [\"X.csv\", \"Y.csv\", \"Z.csv\"]\n",
    "\n",
    "# Leer cada archivo y guardarlo en un dataframe con el delimitador adecuado\n",
    "df_X = pd.read_csv(f\"{carpeta}{archivos[0]}\", sep=\",\", header=0)\n",
    "df_Y = pd.read_csv(f\"{carpeta}{archivos[1]}\", sep=\";\", header=0)\n",
    "df_Z = pd.read_csv(f\"{carpeta}{archivos[2]}\", sep=\",\", header=0)"
   ]
  }
 ],
 "metadata": {
  "kernelspec": {
   "display_name": "base",
   "language": "python",
   "name": "python3"
  },
  "language_info": {
   "codemirror_mode": {
    "name": "ipython",
    "version": 3
   },
   "file_extension": ".py",
   "mimetype": "text/x-python",
   "name": "python",
   "nbconvert_exporter": "python",
   "pygments_lexer": "ipython3",
   "version": "3.12.7"
  }
 },
 "nbformat": 4,
 "nbformat_minor": 5
}
