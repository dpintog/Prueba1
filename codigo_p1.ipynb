{
 "cells": [
  {
   "cell_type": "markdown",
   "id": "034ee773",
   "metadata": {},
   "source": [
    "# Analisis de datos"
   ]
  },
  {
   "cell_type": "markdown",
   "id": "f013117e",
   "metadata": {},
   "source": [
    "## Importe de librerias"
   ]
  },
  {
   "cell_type": "code",
   "execution_count": 2,
   "id": "dcc511ad",
   "metadata": {},
   "outputs": [],
   "source": [
    "import numpy as np\n",
    "import pandas as pd\n",
    "import matplotlib.pyplot as plt\n",
    "import seaborn as sns"
   ]
  },
  {
   "cell_type": "markdown",
   "id": "cbcfc972",
   "metadata": {},
   "source": [
    "## Lectura de datos"
   ]
  },
  {
   "cell_type": "code",
   "execution_count": 3,
   "id": "82e6b084",
   "metadata": {},
   "outputs": [],
   "source": [
    "# Ruta de la carpeta donde están los archivos\n",
    "carpeta = \"data/\"\n",
    "# Nombres de los archivos\n",
    "archivos = [\"X.csv\", \"Y.csv\", \"Z.csv\"]\n",
    "\n",
    "# Leer cada archivo y guardarlo en un dataframe con el delimitador adecuado\n",
    "df_X = pd.read_csv(f\"{carpeta}{archivos[0]}\", sep=\",\", header=0)\n",
    "df_Y = pd.read_csv(f\"{carpeta}{archivos[1]}\", sep=\";\", header=0)\n",
    "df_Z = pd.read_csv(f\"{carpeta}{archivos[2]}\", sep=\",\", header=0)"
   ]
  },
  {
   "cell_type": "code",
   "execution_count": 4,
   "id": "df254fa1",
   "metadata": {},
   "outputs": [
    {
     "name": "stdout",
     "output_type": "stream",
     "text": [
      "<class 'pandas.core.frame.DataFrame'>\n",
      "RangeIndex: 9144 entries, 0 to 9143\n",
      "Data columns (total 2 columns):\n",
      " #   Column  Non-Null Count  Dtype  \n",
      "---  ------  --------------  -----  \n",
      " 0   Date    9144 non-null   object \n",
      " 1   Price   9144 non-null   float64\n",
      "dtypes: float64(1), object(1)\n",
      "memory usage: 143.0+ KB\n",
      "<class 'pandas.core.frame.DataFrame'>\n",
      "RangeIndex: 4485 entries, 0 to 4484\n",
      "Data columns (total 2 columns):\n",
      " #   Column  Non-Null Count  Dtype \n",
      "---  ------  --------------  ----- \n",
      " 0   Date    4485 non-null   object\n",
      " 1   Price   4485 non-null   object\n",
      "dtypes: object(2)\n",
      "memory usage: 70.2+ KB\n",
      "<class 'pandas.core.frame.DataFrame'>\n",
      "RangeIndex: 3565 entries, 0 to 3564\n",
      "Data columns (total 2 columns):\n",
      " #   Column  Non-Null Count  Dtype  \n",
      "---  ------  --------------  -----  \n",
      " 0   Price   3565 non-null   float64\n",
      " 1   Date    3565 non-null   object \n",
      "dtypes: float64(1), object(1)\n",
      "memory usage: 55.8+ KB\n",
      "None None None\n"
     ]
    }
   ],
   "source": [
    "print(df_X.info(),df_Y.info(),df_Z.info())"
   ]
  },
  {
   "cell_type": "markdown",
   "id": "032f59db",
   "metadata": {},
   "source": [
    "Se puede observar que los  tipos de datos no coinciden, para la materia prima Y, los precios son de tipo objeto, mientras en los demas de tipo flotante, por otro lado las fechas deben tener formato de fecha."
   ]
  },
  {
   "cell_type": "code",
   "execution_count": 5,
   "id": "31c4acf4",
   "metadata": {},
   "outputs": [
    {
     "name": "stdout",
     "output_type": "stream",
     "text": [
      "MATERIA PRIMA X              Price\n",
      "count  9144.000000\n",
      "mean     51.323922\n",
      "std      32.994964\n",
      "min       9.640000\n",
      "25%      19.687500\n",
      "50%      45.940000\n",
      "75%      75.207500\n",
      "max     146.080000\n",
      "MATERIA PRIMA Y              Date Price\n",
      "count        4485  4485\n",
      "unique       4485  1237\n",
      "top     12/9/2023   470\n",
      "freq            1   111\n",
      "MATERIA PRIMA Z              Price\n",
      "count  3565.000000\n",
      "mean   2037.081197\n",
      "std     372.976076\n",
      "min    1421.500000\n",
      "25%    1767.500000\n",
      "50%    1974.750000\n",
      "75%    2235.750000\n",
      "max    3984.000000\n"
     ]
    }
   ],
   "source": [
    "print('MATERIA PRIMA X',df_X.describe())\n",
    "print('MATERIA PRIMA Y',df_Y.describe())\n",
    "print('MATERIA PRIMA Z',df_Z.describe())"
   ]
  },
  {
   "cell_type": "markdown",
   "id": "55b244e9",
   "metadata": {},
   "source": [
    "No hay datos nulos ni vacios en ninguno de los 3 dataset, conviene unirlos en forma de fecha, precio x , precio y, y precio z"
   ]
  },
  {
   "cell_type": "code",
   "execution_count": 6,
   "id": "d0cfe107",
   "metadata": {},
   "outputs": [
    {
     "data": {
      "text/html": [
       "<div>\n",
       "<style scoped>\n",
       "    .dataframe tbody tr th:only-of-type {\n",
       "        vertical-align: middle;\n",
       "    }\n",
       "\n",
       "    .dataframe tbody tr th {\n",
       "        vertical-align: top;\n",
       "    }\n",
       "\n",
       "    .dataframe thead th {\n",
       "        text-align: right;\n",
       "    }\n",
       "</style>\n",
       "<table border=\"1\" class=\"dataframe\">\n",
       "  <thead>\n",
       "    <tr style=\"text-align: right;\">\n",
       "      <th></th>\n",
       "      <th>Date</th>\n",
       "      <th>Price</th>\n",
       "    </tr>\n",
       "  </thead>\n",
       "  <tbody>\n",
       "    <tr>\n",
       "      <th>0</th>\n",
       "      <td>2024-04-04</td>\n",
       "      <td>89.18</td>\n",
       "    </tr>\n",
       "    <tr>\n",
       "      <th>1</th>\n",
       "      <td>2024-04-03</td>\n",
       "      <td>89.35</td>\n",
       "    </tr>\n",
       "    <tr>\n",
       "      <th>2</th>\n",
       "      <td>2024-04-02</td>\n",
       "      <td>88.92</td>\n",
       "    </tr>\n",
       "  </tbody>\n",
       "</table>\n",
       "</div>"
      ],
      "text/plain": [
       "         Date  Price\n",
       "0  2024-04-04  89.18\n",
       "1  2024-04-03  89.35\n",
       "2  2024-04-02  88.92"
      ]
     },
     "execution_count": 6,
     "metadata": {},
     "output_type": "execute_result"
    }
   ],
   "source": [
    "df_X.head(3)"
   ]
  },
  {
   "cell_type": "code",
   "execution_count": 7,
   "id": "f3578529",
   "metadata": {},
   "outputs": [],
   "source": [
    "dfX=df_X.rename(columns={\"Price\": \"P_x\"})\n",
    "dfY=df_Y.rename(columns={\"Price\": \"P_y\"})\n",
    "dfZ=df_Z.rename(columns={\"Price\": \"P_z\"})"
   ]
  },
  {
   "cell_type": "code",
   "execution_count": 8,
   "id": "6cbb7462",
   "metadata": {},
   "outputs": [
    {
     "name": "stdout",
     "output_type": "stream",
     "text": [
      "['2024-04-04' '2024-04-03' '2024-04-02' ... '1988-06-29' '1988-06-28'\n",
      " '1988-06-27']\n",
      "['12/9/2023' '11/9/2023' '8/9/2023' ... '13/7/2006' '12/7/2006'\n",
      " '11/7/2006']\n",
      "['2010-01-01' '2010-01-04' '2010-01-05' ... '2023-08-29' '2023-08-30'\n",
      " '2023-08-31']\n"
     ]
    }
   ],
   "source": [
    "print(dfX['Date'].unique())\n",
    "print(dfY['Date'].unique())\n",
    "print(dfZ['Date'].unique())"
   ]
  },
  {
   "cell_type": "markdown",
   "id": "61040800",
   "metadata": {},
   "source": [
    "en la siguiente celda se modificará el tipo de dato de la fecha de los 3 dataframe"
   ]
  },
  {
   "cell_type": "code",
   "execution_count": 9,
   "id": "c277c35f",
   "metadata": {},
   "outputs": [],
   "source": [
    "dfX['Date'] = pd.to_datetime(dfX['Date'])\n",
    "dfY['Date'] = pd.to_datetime(dfY['Date'], format=\"%d/%m/%Y\")\n",
    "dfZ['Date'] = pd.to_datetime(dfZ['Date'])"
   ]
  },
  {
   "cell_type": "markdown",
   "id": "ed7a561e",
   "metadata": {},
   "source": [
    "notece que los datos de Y estaban en otro formato"
   ]
  },
  {
   "cell_type": "code",
   "execution_count": 10,
   "id": "2c121fee",
   "metadata": {},
   "outputs": [
    {
     "data": {
      "text/html": [
       "<div>\n",
       "<style scoped>\n",
       "    .dataframe tbody tr th:only-of-type {\n",
       "        vertical-align: middle;\n",
       "    }\n",
       "\n",
       "    .dataframe tbody tr th {\n",
       "        vertical-align: top;\n",
       "    }\n",
       "\n",
       "    .dataframe thead th {\n",
       "        text-align: right;\n",
       "    }\n",
       "</style>\n",
       "<table border=\"1\" class=\"dataframe\">\n",
       "  <thead>\n",
       "    <tr style=\"text-align: right;\">\n",
       "      <th></th>\n",
       "      <th>P_z</th>\n",
       "      <th>Date</th>\n",
       "    </tr>\n",
       "  </thead>\n",
       "  <tbody>\n",
       "    <tr>\n",
       "      <th>0</th>\n",
       "      <td>2225.25</td>\n",
       "      <td>2010-01-01</td>\n",
       "    </tr>\n",
       "    <tr>\n",
       "      <th>1</th>\n",
       "      <td>2225.25</td>\n",
       "      <td>2010-01-04</td>\n",
       "    </tr>\n",
       "    <tr>\n",
       "      <th>2</th>\n",
       "      <td>2246.50</td>\n",
       "      <td>2010-01-05</td>\n",
       "    </tr>\n",
       "  </tbody>\n",
       "</table>\n",
       "</div>"
      ],
      "text/plain": [
       "       P_z       Date\n",
       "0  2225.25 2010-01-01\n",
       "1  2225.25 2010-01-04\n",
       "2  2246.50 2010-01-05"
      ]
     },
     "execution_count": 10,
     "metadata": {},
     "output_type": "execute_result"
    }
   ],
   "source": [
    "dfZ.head(3)"
   ]
  },
  {
   "cell_type": "markdown",
   "id": "c4f6682d",
   "metadata": {},
   "source": [
    "Ahora, los datos de los precios tambien hay que arreglarlos pues unos tienen el decimal con coma y otro con punto, comparemos el dfZ que esta arriba (decimal con punto) y el dataframe dfY (decimal con coma)"
   ]
  },
  {
   "cell_type": "code",
   "execution_count": 11,
   "id": "cbf52742",
   "metadata": {},
   "outputs": [
    {
     "data": {
      "text/html": [
       "<div>\n",
       "<style scoped>\n",
       "    .dataframe tbody tr th:only-of-type {\n",
       "        vertical-align: middle;\n",
       "    }\n",
       "\n",
       "    .dataframe tbody tr th {\n",
       "        vertical-align: top;\n",
       "    }\n",
       "\n",
       "    .dataframe thead th {\n",
       "        text-align: right;\n",
       "    }\n",
       "</style>\n",
       "<table border=\"1\" class=\"dataframe\">\n",
       "  <thead>\n",
       "    <tr style=\"text-align: right;\">\n",
       "      <th></th>\n",
       "      <th>Date</th>\n",
       "      <th>P_y</th>\n",
       "    </tr>\n",
       "  </thead>\n",
       "  <tbody>\n",
       "    <tr>\n",
       "      <th>0</th>\n",
       "      <td>2023-09-12</td>\n",
       "      <td>547,33</td>\n",
       "    </tr>\n",
       "    <tr>\n",
       "      <th>1</th>\n",
       "      <td>2023-09-11</td>\n",
       "      <td>546</td>\n",
       "    </tr>\n",
       "    <tr>\n",
       "      <th>2</th>\n",
       "      <td>2023-09-08</td>\n",
       "      <td>545</td>\n",
       "    </tr>\n",
       "    <tr>\n",
       "      <th>3</th>\n",
       "      <td>2023-09-07</td>\n",
       "      <td>550</td>\n",
       "    </tr>\n",
       "    <tr>\n",
       "      <th>4</th>\n",
       "      <td>2023-09-06</td>\n",
       "      <td>552,5</td>\n",
       "    </tr>\n",
       "  </tbody>\n",
       "</table>\n",
       "</div>"
      ],
      "text/plain": [
       "        Date     P_y\n",
       "0 2023-09-12  547,33\n",
       "1 2023-09-11     546\n",
       "2 2023-09-08     545\n",
       "3 2023-09-07     550\n",
       "4 2023-09-06   552,5"
      ]
     },
     "execution_count": 11,
     "metadata": {},
     "output_type": "execute_result"
    }
   ],
   "source": [
    "dfY.head()"
   ]
  },
  {
   "cell_type": "markdown",
   "id": "55cebe31",
   "metadata": {},
   "source": [
    "Como los valores numericos de dfY tienen el decimal con coma, se debe cambiar a punto para que sea consistente con los otros dataframes. Esto se puede hacer reemplazando la coma por un punto en la columna 'P_y'."
   ]
  },
  {
   "cell_type": "code",
   "execution_count": 12,
   "id": "0d2605e8",
   "metadata": {},
   "outputs": [],
   "source": [
    "dfY[\"P_y\"] = dfY[\"P_y\"].str.replace(\",\", \".\", regex=False)"
   ]
  },
  {
   "cell_type": "code",
   "execution_count": 13,
   "id": "546d7a01",
   "metadata": {},
   "outputs": [
    {
     "data": {
      "text/html": [
       "<div>\n",
       "<style scoped>\n",
       "    .dataframe tbody tr th:only-of-type {\n",
       "        vertical-align: middle;\n",
       "    }\n",
       "\n",
       "    .dataframe tbody tr th {\n",
       "        vertical-align: top;\n",
       "    }\n",
       "\n",
       "    .dataframe thead th {\n",
       "        text-align: right;\n",
       "    }\n",
       "</style>\n",
       "<table border=\"1\" class=\"dataframe\">\n",
       "  <thead>\n",
       "    <tr style=\"text-align: right;\">\n",
       "      <th></th>\n",
       "      <th>Date</th>\n",
       "      <th>P_y</th>\n",
       "    </tr>\n",
       "  </thead>\n",
       "  <tbody>\n",
       "    <tr>\n",
       "      <th>0</th>\n",
       "      <td>2023-09-12</td>\n",
       "      <td>547.33</td>\n",
       "    </tr>\n",
       "    <tr>\n",
       "      <th>1</th>\n",
       "      <td>2023-09-11</td>\n",
       "      <td>546</td>\n",
       "    </tr>\n",
       "    <tr>\n",
       "      <th>2</th>\n",
       "      <td>2023-09-08</td>\n",
       "      <td>545</td>\n",
       "    </tr>\n",
       "    <tr>\n",
       "      <th>3</th>\n",
       "      <td>2023-09-07</td>\n",
       "      <td>550</td>\n",
       "    </tr>\n",
       "    <tr>\n",
       "      <th>4</th>\n",
       "      <td>2023-09-06</td>\n",
       "      <td>552.5</td>\n",
       "    </tr>\n",
       "  </tbody>\n",
       "</table>\n",
       "</div>"
      ],
      "text/plain": [
       "        Date     P_y\n",
       "0 2023-09-12  547.33\n",
       "1 2023-09-11     546\n",
       "2 2023-09-08     545\n",
       "3 2023-09-07     550\n",
       "4 2023-09-06   552.5"
      ]
     },
     "execution_count": 13,
     "metadata": {},
     "output_type": "execute_result"
    }
   ],
   "source": [
    "dfY.head()"
   ]
  },
  {
   "cell_type": "code",
   "execution_count": 14,
   "id": "a61c3a45",
   "metadata": {},
   "outputs": [],
   "source": [
    "dfY= dfY.astype({\"P_y\": \"float64\"})"
   ]
  },
  {
   "cell_type": "code",
   "execution_count": 15,
   "id": "b3aa7f89",
   "metadata": {},
   "outputs": [
    {
     "name": "stdout",
     "output_type": "stream",
     "text": [
      "datetime64[ns] float64\n"
     ]
    }
   ],
   "source": [
    "print(dfY['Date'].dtype,dfY['P_y'].dtype)"
   ]
  },
  {
   "cell_type": "code",
   "execution_count": 31,
   "id": "d3cab943",
   "metadata": {},
   "outputs": [],
   "source": [
    "merge=dfX.merge(dfY, on=\"Date\").merge(dfZ, on=\"Date\")\n",
    "merge.set_index(\"Date\", inplace=True)"
   ]
  },
  {
   "cell_type": "code",
   "execution_count": 32,
   "id": "11ae0cdb",
   "metadata": {},
   "outputs": [
    {
     "data": {
      "text/html": [
       "<div>\n",
       "<style scoped>\n",
       "    .dataframe tbody tr th:only-of-type {\n",
       "        vertical-align: middle;\n",
       "    }\n",
       "\n",
       "    .dataframe tbody tr th {\n",
       "        vertical-align: top;\n",
       "    }\n",
       "\n",
       "    .dataframe thead th {\n",
       "        text-align: right;\n",
       "    }\n",
       "</style>\n",
       "<table border=\"1\" class=\"dataframe\">\n",
       "  <thead>\n",
       "    <tr style=\"text-align: right;\">\n",
       "      <th></th>\n",
       "      <th>P_x</th>\n",
       "      <th>P_y</th>\n",
       "      <th>P_z</th>\n",
       "    </tr>\n",
       "    <tr>\n",
       "      <th>Date</th>\n",
       "      <th></th>\n",
       "      <th></th>\n",
       "      <th></th>\n",
       "    </tr>\n",
       "  </thead>\n",
       "  <tbody>\n",
       "    <tr>\n",
       "      <th>2023-08-31</th>\n",
       "      <td>86.86</td>\n",
       "      <td>545.00</td>\n",
       "      <td>2165.25</td>\n",
       "    </tr>\n",
       "    <tr>\n",
       "      <th>2023-08-30</th>\n",
       "      <td>85.86</td>\n",
       "      <td>543.67</td>\n",
       "      <td>2140.25</td>\n",
       "    </tr>\n",
       "    <tr>\n",
       "      <th>2023-08-29</th>\n",
       "      <td>85.49</td>\n",
       "      <td>545.33</td>\n",
       "      <td>2116.25</td>\n",
       "    </tr>\n",
       "    <tr>\n",
       "      <th>2023-08-28</th>\n",
       "      <td>84.42</td>\n",
       "      <td>549.00</td>\n",
       "      <td>2116.25</td>\n",
       "    </tr>\n",
       "    <tr>\n",
       "      <th>2023-08-25</th>\n",
       "      <td>84.48</td>\n",
       "      <td>554.00</td>\n",
       "      <td>2123.50</td>\n",
       "    </tr>\n",
       "  </tbody>\n",
       "</table>\n",
       "</div>"
      ],
      "text/plain": [
       "              P_x     P_y      P_z\n",
       "Date                              \n",
       "2023-08-31  86.86  545.00  2165.25\n",
       "2023-08-30  85.86  543.67  2140.25\n",
       "2023-08-29  85.49  545.33  2116.25\n",
       "2023-08-28  84.42  549.00  2116.25\n",
       "2023-08-25  84.48  554.00  2123.50"
      ]
     },
     "execution_count": 32,
     "metadata": {},
     "output_type": "execute_result"
    }
   ],
   "source": [
    "merge.head()"
   ]
  },
  {
   "cell_type": "markdown",
   "id": "c7cff858",
   "metadata": {},
   "source": [
    "No hay datos nulos ni vacios en el merge"
   ]
  },
  {
   "cell_type": "code",
   "execution_count": 33,
   "id": "14ebf044",
   "metadata": {},
   "outputs": [
    {
     "name": "stdout",
     "output_type": "stream",
     "text": [
      "<class 'pandas.core.frame.DataFrame'>\n",
      "DatetimeIndex: 3530 entries, 2023-08-31 to 2010-01-04\n",
      "Data columns (total 3 columns):\n",
      " #   Column  Non-Null Count  Dtype  \n",
      "---  ------  --------------  -----  \n",
      " 0   P_x     3530 non-null   float64\n",
      " 1   P_y     3530 non-null   float64\n",
      " 2   P_z     3530 non-null   float64\n",
      "dtypes: float64(3)\n",
      "memory usage: 110.3 KB\n"
     ]
    }
   ],
   "source": [
    "merge.info()"
   ]
  },
  {
   "cell_type": "code",
   "execution_count": 34,
   "id": "cee3fd30",
   "metadata": {},
   "outputs": [
    {
     "name": "stdout",
     "output_type": "stream",
     "text": [
      "<class 'pandas.core.frame.DataFrame'>\n",
      "RangeIndex: 9144 entries, 0 to 9143\n",
      "Data columns (total 2 columns):\n",
      " #   Column  Non-Null Count  Dtype  \n",
      "---  ------  --------------  -----  \n",
      " 0   Date    9144 non-null   object \n",
      " 1   Price   9144 non-null   float64\n",
      "dtypes: float64(1), object(1)\n",
      "memory usage: 143.0+ KB\n",
      "<class 'pandas.core.frame.DataFrame'>\n",
      "RangeIndex: 4485 entries, 0 to 4484\n",
      "Data columns (total 2 columns):\n",
      " #   Column  Non-Null Count  Dtype \n",
      "---  ------  --------------  ----- \n",
      " 0   Date    4485 non-null   object\n",
      " 1   Price   4485 non-null   object\n",
      "dtypes: object(2)\n",
      "memory usage: 70.2+ KB\n",
      "<class 'pandas.core.frame.DataFrame'>\n",
      "RangeIndex: 3565 entries, 0 to 3564\n",
      "Data columns (total 2 columns):\n",
      " #   Column  Non-Null Count  Dtype  \n",
      "---  ------  --------------  -----  \n",
      " 0   Price   3565 non-null   float64\n",
      " 1   Date    3565 non-null   object \n",
      "dtypes: float64(1), object(1)\n",
      "memory usage: 55.8+ KB\n",
      "None None None\n"
     ]
    }
   ],
   "source": [
    "print(df_X.info(),df_Y.info(),df_Z.info())"
   ]
  },
  {
   "cell_type": "markdown",
   "id": "31a9ccbc",
   "metadata": {},
   "source": [
    "Los datos se redujeron a 3530 filas, dado que en el merge necesitamos datos de todas las materias primas en cada fecha, debido a que los datos de la materia prima Z es la mas pequeña el número de filas sera igual o menos a este, y si hay una fecha sin alguno de los valores de las materias primas en x o y esa fila será eliminada"
   ]
  },
  {
   "cell_type": "code",
   "execution_count": 35,
   "id": "2da13bc6",
   "metadata": {},
   "outputs": [
    {
     "data": {
      "image/png": "[encoded data removed]",
      "text/plain": [
       "<Figure size 1000x500 with 1 Axes>"
      ]
     },
     "metadata": {},
     "output_type": "display_data"
    }
   ],
   "source": [
    "plt.figure(figsize=(10,5))\n",
    "sns.lineplot(data=merge, x=\"Date\", y=\"P_x\", label=\"Precio materia prima X\")\n",
    "sns.lineplot(data=merge, x=\"Date\", y=\"P_y\", label=\"Precio materia prima Y\")\n",
    "sns.lineplot(data=merge, x=\"Date\", y=\"P_z\", label=\"Precio materia prima Z\")\n",
    "\n",
    "plt.title(\"Evolución de precios\")\n",
    "plt.xlabel(\"Fecha\")\n",
    "plt.ylabel(\"Precio\")\n",
    "plt.xticks(rotation=45)\n",
    "plt.grid(True)\n",
    "plt.legend()\n",
    "plt.show()"
   ]
  },
  {
   "cell_type": "markdown",
   "id": "178b423e",
   "metadata": {},
   "source": [
    "Ahora que los datos de los precios tienen el formato correcto, y estan corregidos, es posible hallar los precios de los equipos 1 y 2, teniendo en cuenta las instrucciones, el equipo 1 esta compuesto por 20% de la materia prima X y el resto (80%)por la materia prima Y, mientras que el equipo 2 se reparte en partes iguales (1/3 cada una)"
   ]
  },
  {
   "cell_type": "code",
   "execution_count": 40,
   "id": "dea9d318",
   "metadata": {},
   "outputs": [
    {
     "data": {
      "text/html": [
       "<div>\n",
       "<style scoped>\n",
       "    .dataframe tbody tr th:only-of-type {\n",
       "        vertical-align: middle;\n",
       "    }\n",
       "\n",
       "    .dataframe tbody tr th {\n",
       "        vertical-align: top;\n",
       "    }\n",
       "\n",
       "    .dataframe thead th {\n",
       "        text-align: right;\n",
       "    }\n",
       "</style>\n",
       "<table border=\"1\" class=\"dataframe\">\n",
       "  <thead>\n",
       "    <tr style=\"text-align: right;\">\n",
       "      <th></th>\n",
       "      <th>Equipo1</th>\n",
       "      <th>Equipo2</th>\n",
       "    </tr>\n",
       "    <tr>\n",
       "      <th>Date</th>\n",
       "      <th></th>\n",
       "      <th></th>\n",
       "    </tr>\n",
       "  </thead>\n",
       "  <tbody>\n",
       "    <tr>\n",
       "      <th>2023-08-31</th>\n",
       "      <td>453.372</td>\n",
       "      <td>932.37</td>\n",
       "    </tr>\n",
       "    <tr>\n",
       "      <th>2023-08-30</th>\n",
       "      <td>452.108</td>\n",
       "      <td>923.26</td>\n",
       "    </tr>\n",
       "    <tr>\n",
       "      <th>2023-08-29</th>\n",
       "      <td>453.362</td>\n",
       "      <td>915.69</td>\n",
       "    </tr>\n",
       "  </tbody>\n",
       "</table>\n",
       "</div>"
      ],
      "text/plain": [
       "            Equipo1  Equipo2\n",
       "Date                        \n",
       "2023-08-31  453.372   932.37\n",
       "2023-08-30  452.108   923.26\n",
       "2023-08-29  453.362   915.69"
      ]
     },
     "execution_count": 40,
     "metadata": {},
     "output_type": "execute_result"
    }
   ],
   "source": [
    "df= pd.DataFrame({\n",
    "    \"Date\": merge.index,\n",
    "    \"Equipo1\": 0.2 * merge[\"P_x\"] + 0.8 * merge[\"P_y\"],\n",
    "    \"Equipo2\": (merge[\"P_x\"] + merge[\"P_y\"] + merge[\"P_z\"]) / 3\n",
    "})\n",
    "df.set_index(\"Date\", inplace=True)\n",
    "df.head(3)"
   ]
  },
  {
   "cell_type": "code",
   "execution_count": 41,
   "id": "512a82e9",
   "metadata": {},
   "outputs": [
    {
     "data": {
      "image/png": "[encoded data removed]",
      "text/plain": [
       "<Figure size 1000x500 with 1 Axes>"
      ]
     },
     "metadata": {},
     "output_type": "display_data"
    }
   ],
   "source": [
    "plt.figure(figsize=(10,5))\n",
    "sns.lineplot(data=df, x=\"Date\", y=\"Equipo1\", label=\"Precio equipo 1\")\n",
    "sns.lineplot(data=df, x=\"Date\", y=\"Equipo2\", label=\"Precio equipo 2\")\n",
    "\n",
    "plt.title(\"Evolución de precios\")\n",
    "plt.xlabel(\"Fecha\")\n",
    "plt.ylabel(\"Precio\")\n",
    "plt.xticks(rotation=45)\n",
    "plt.grid(True)\n",
    "plt.legend()\n",
    "plt.show()"
   ]
  },
  {
   "cell_type": "code",
   "execution_count": 42,
   "id": "fc4b24f7",
   "metadata": {},
   "outputs": [
    {
     "data": {
      "text/html": [
       "<div>\n",
       "<style scoped>\n",
       "    .dataframe tbody tr th:only-of-type {\n",
       "        vertical-align: middle;\n",
       "    }\n",
       "\n",
       "    .dataframe tbody tr th {\n",
       "        vertical-align: top;\n",
       "    }\n",
       "\n",
       "    .dataframe thead th {\n",
       "        text-align: right;\n",
       "    }\n",
       "</style>\n",
       "<table border=\"1\" class=\"dataframe\">\n",
       "  <thead>\n",
       "    <tr style=\"text-align: right;\">\n",
       "      <th></th>\n",
       "      <th>Equipo1</th>\n",
       "      <th>Equipo2</th>\n",
       "    </tr>\n",
       "  </thead>\n",
       "  <tbody>\n",
       "    <tr>\n",
       "      <th>count</th>\n",
       "      <td>3530.000000</td>\n",
       "      <td>3530.000000</td>\n",
       "    </tr>\n",
       "    <tr>\n",
       "      <th>mean</th>\n",
       "      <td>460.039889</td>\n",
       "      <td>890.350065</td>\n",
       "    </tr>\n",
       "    <tr>\n",
       "      <th>std</th>\n",
       "      <td>113.352741</td>\n",
       "      <td>169.531556</td>\n",
       "    </tr>\n",
       "    <tr>\n",
       "      <th>min</th>\n",
       "      <td>213.222000</td>\n",
       "      <td>577.026667</td>\n",
       "    </tr>\n",
       "    <tr>\n",
       "      <th>25%</th>\n",
       "      <td>399.035000</td>\n",
       "      <td>780.118333</td>\n",
       "    </tr>\n",
       "    <tr>\n",
       "      <th>50%</th>\n",
       "      <td>449.834000</td>\n",
       "      <td>873.636667</td>\n",
       "    </tr>\n",
       "    <tr>\n",
       "      <th>75%</th>\n",
       "      <td>514.120000</td>\n",
       "      <td>979.438333</td>\n",
       "    </tr>\n",
       "    <tr>\n",
       "      <th>max</th>\n",
       "      <td>863.760000</td>\n",
       "      <td>1668.053333</td>\n",
       "    </tr>\n",
       "  </tbody>\n",
       "</table>\n",
       "</div>"
      ],
      "text/plain": [
       "           Equipo1      Equipo2\n",
       "count  3530.000000  3530.000000\n",
       "mean    460.039889   890.350065\n",
       "std     113.352741   169.531556\n",
       "min     213.222000   577.026667\n",
       "25%     399.035000   780.118333\n",
       "50%     449.834000   873.636667\n",
       "75%     514.120000   979.438333\n",
       "max     863.760000  1668.053333"
      ]
     },
     "execution_count": 42,
     "metadata": {},
     "output_type": "execute_result"
    }
   ],
   "source": [
    "df.describe()"
   ]
  },
  {
   "cell_type": "code",
   "execution_count": 43,
   "id": "48f7abe5",
   "metadata": {},
   "outputs": [
    {
     "data": {
      "text/html": [
       "<div>\n",
       "<style scoped>\n",
       "    .dataframe tbody tr th:only-of-type {\n",
       "        vertical-align: middle;\n",
       "    }\n",
       "\n",
       "    .dataframe tbody tr th {\n",
       "        vertical-align: top;\n",
       "    }\n",
       "\n",
       "    .dataframe thead th {\n",
       "        text-align: right;\n",
       "    }\n",
       "</style>\n",
       "<table border=\"1\" class=\"dataframe\">\n",
       "  <thead>\n",
       "    <tr style=\"text-align: right;\">\n",
       "      <th></th>\n",
       "      <th>Equipo1</th>\n",
       "      <th>Equipo2</th>\n",
       "    </tr>\n",
       "    <tr>\n",
       "      <th>Date</th>\n",
       "      <th></th>\n",
       "      <th></th>\n",
       "    </tr>\n",
       "  </thead>\n",
       "  <tbody>\n",
       "    <tr>\n",
       "      <th>2023-08-31</th>\n",
       "      <td>453.372</td>\n",
       "      <td>932.37</td>\n",
       "    </tr>\n",
       "    <tr>\n",
       "      <th>2023-08-30</th>\n",
       "      <td>452.108</td>\n",
       "      <td>923.26</td>\n",
       "    </tr>\n",
       "    <tr>\n",
       "      <th>2023-08-29</th>\n",
       "      <td>453.362</td>\n",
       "      <td>915.69</td>\n",
       "    </tr>\n",
       "  </tbody>\n",
       "</table>\n",
       "</div>"
      ],
      "text/plain": [
       "            Equipo1  Equipo2\n",
       "Date                        \n",
       "2023-08-31  453.372   932.37\n",
       "2023-08-30  452.108   923.26\n",
       "2023-08-29  453.362   915.69"
      ]
     },
     "execution_count": 43,
     "metadata": {},
     "output_type": "execute_result"
    }
   ],
   "source": [
    "df.head(3)"
   ]
  }
 ],
 "metadata": {
  "kernelspec": {
   "display_name": "base",
   "language": "python",
   "name": "python3"
  },
  "language_info": {
   "codemirror_mode": {
    "name": "ipython",
    "version": 3
   },
   "file_extension": ".py",
   "mimetype": "text/x-python",
   "name": "python",
   "nbconvert_exporter": "python",
   "pygments_lexer": "ipython3",
   "version": "3.12.7"
  }
 },
 "nbformat": 4,
 "nbformat_minor": 5
}
