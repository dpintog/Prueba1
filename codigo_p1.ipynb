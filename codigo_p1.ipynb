{
 "cells": [
  {
   "cell_type": "markdown",
   "id": "034ee773",
   "metadata": {},
   "source": [
    "# Analisis de datos"
   ]
  },
  {
   "cell_type": "markdown",
   "id": "f013117e",
   "metadata": {},
   "source": [
    "## Importe de librerias"
   ]
  },
  {
   "cell_type": "code",
   "execution_count": 1,
   "id": "dcc511ad",
   "metadata": {},
   "outputs": [],
   "source": [
    "import numpy as np\n",
    "import pandas as pd\n",
    "import matplotlib.pyplot as plt\n",
    "import seaborn as sns"
   ]
  },
  {
   "cell_type": "markdown",
   "id": "cbcfc972",
   "metadata": {},
   "source": [
    "## Lectura de datos"
   ]
  },
  {
   "cell_type": "code",
   "execution_count": 2,
   "id": "82e6b084",
   "metadata": {},
   "outputs": [],
   "source": [
    "# Ruta de la carpeta donde están los archivos\n",
    "carpeta = \"data/\"\n",
    "# Nombres de los archivos\n",
    "archivos = [\"X.csv\", \"Y.csv\", \"Z.csv\"]\n",
    "\n",
    "# Leer cada archivo y guardarlo en un dataframe con el delimitador adecuado\n",
    "df_X = pd.read_csv(f\"{carpeta}{archivos[0]}\", sep=\",\", header=0)\n",
    "df_Y = pd.read_csv(f\"{carpeta}{archivos[1]}\", sep=\";\", header=0)\n",
    "df_Z = pd.read_csv(f\"{carpeta}{archivos[2]}\", sep=\",\", header=0)"
   ]
  },
  {
   "cell_type": "code",
   "execution_count": 3,
   "id": "df254fa1",
   "metadata": {},
   "outputs": [
    {
     "name": "stdout",
     "output_type": "stream",
     "text": [
      "<class 'pandas.core.frame.DataFrame'>\n",
      "RangeIndex: 9144 entries, 0 to 9143\n",
      "Data columns (total 2 columns):\n",
      " #   Column  Non-Null Count  Dtype  \n",
      "---  ------  --------------  -----  \n",
      " 0   Date    9144 non-null   object \n",
      " 1   Price   9144 non-null   float64\n",
      "dtypes: float64(1), object(1)\n",
      "memory usage: 143.0+ KB\n",
      "<class 'pandas.core.frame.DataFrame'>\n",
      "RangeIndex: 4485 entries, 0 to 4484\n",
      "Data columns (total 2 columns):\n",
      " #   Column  Non-Null Count  Dtype \n",
      "---  ------  --------------  ----- \n",
      " 0   Date    4485 non-null   object\n",
      " 1   Price   4485 non-null   object\n",
      "dtypes: object(2)\n",
      "memory usage: 70.2+ KB\n",
      "<class 'pandas.core.frame.DataFrame'>\n",
      "RangeIndex: 3565 entries, 0 to 3564\n",
      "Data columns (total 2 columns):\n",
      " #   Column  Non-Null Count  Dtype  \n",
      "---  ------  --------------  -----  \n",
      " 0   Price   3565 non-null   float64\n",
      " 1   Date    3565 non-null   object \n",
      "dtypes: float64(1), object(1)\n",
      "memory usage: 55.8+ KB\n",
      "None None None\n"
     ]
    }
   ],
   "source": [
    "print(df_X.info(),df_Y.info(),df_Z.info())"
   ]
  },
  {
   "cell_type": "markdown",
   "id": "032f59db",
   "metadata": {},
   "source": [
    "Se puede observar que los  tipos de datos no coinciden, para la materia prima Y, los precios son de tipo objeto, mientras en los demas de tipo flotante, por otro lado las fechas deben tener formato de fecha."
   ]
  },
  {
   "cell_type": "code",
   "execution_count": 4,
   "id": "31c4acf4",
   "metadata": {},
   "outputs": [
    {
     "name": "stdout",
     "output_type": "stream",
     "text": [
      "MATERIA PRIMA X              Price\n",
      "count  9144.000000\n",
      "mean     51.323922\n",
      "std      32.994964\n",
      "min       9.640000\n",
      "25%      19.687500\n",
      "50%      45.940000\n",
      "75%      75.207500\n",
      "max     146.080000\n",
      "MATERIA PRIMA Y              Date Price\n",
      "count        4485  4485\n",
      "unique       4485  1237\n",
      "top     12/9/2023   470\n",
      "freq            1   111\n",
      "MATERIA PRIMA Z              Price\n",
      "count  3565.000000\n",
      "mean   2037.081197\n",
      "std     372.976076\n",
      "min    1421.500000\n",
      "25%    1767.500000\n",
      "50%    1974.750000\n",
      "75%    2235.750000\n",
      "max    3984.000000\n"
     ]
    }
   ],
   "source": [
    "print('MATERIA PRIMA X',df_X.describe())\n",
    "print('MATERIA PRIMA Y',df_Y.describe())\n",
    "print('MATERIA PRIMA Z',df_Z.describe())"
   ]
  },
  {
   "cell_type": "markdown",
   "id": "55b244e9",
   "metadata": {},
   "source": [
    "No hay datos nulos ni vacios en ninguno de los 3 dataset, conviene unirlos en forma de fecha, precio x , precio y, y precio z"
   ]
  },
  {
   "cell_type": "code",
   "execution_count": 5,
   "id": "d0cfe107",
   "metadata": {},
   "outputs": [
    {
     "data": {
      "text/html": [
       "<div>\n",
       "<style scoped>\n",
       "    .dataframe tbody tr th:only-of-type {\n",
       "        vertical-align: middle;\n",
       "    }\n",
       "\n",
       "    .dataframe tbody tr th {\n",
       "        vertical-align: top;\n",
       "    }\n",
       "\n",
       "    .dataframe thead th {\n",
       "        text-align: right;\n",
       "    }\n",
       "</style>\n",
       "<table border=\"1\" class=\"dataframe\">\n",
       "  <thead>\n",
       "    <tr style=\"text-align: right;\">\n",
       "      <th></th>\n",
       "      <th>Date</th>\n",
       "      <th>Price</th>\n",
       "    </tr>\n",
       "  </thead>\n",
       "  <tbody>\n",
       "    <tr>\n",
       "      <th>0</th>\n",
       "      <td>2024-04-04</td>\n",
       "      <td>89.18</td>\n",
       "    </tr>\n",
       "    <tr>\n",
       "      <th>1</th>\n",
       "      <td>2024-04-03</td>\n",
       "      <td>89.35</td>\n",
       "    </tr>\n",
       "    <tr>\n",
       "      <th>2</th>\n",
       "      <td>2024-04-02</td>\n",
       "      <td>88.92</td>\n",
       "    </tr>\n",
       "  </tbody>\n",
       "</table>\n",
       "</div>"
      ],
      "text/plain": [
       "         Date  Price\n",
       "0  2024-04-04  89.18\n",
       "1  2024-04-03  89.35\n",
       "2  2024-04-02  88.92"
      ]
     },
     "execution_count": 5,
     "metadata": {},
     "output_type": "execute_result"
    }
   ],
   "source": [
    "df_X.head(3)"
   ]
  },
  {
   "cell_type": "code",
   "execution_count": 6,
   "id": "f3578529",
   "metadata": {},
   "outputs": [],
   "source": [
    "dfX=df_X.rename(columns={\"Price\": \"P_x\"})\n",
    "dfY=df_Y.rename(columns={\"Price\": \"P_y\"})\n",
    "dfZ=df_Z.rename(columns={\"Price\": \"P_z\"})"
   ]
  },
  {
   "cell_type": "code",
   "execution_count": 7,
   "id": "6cbb7462",
   "metadata": {},
   "outputs": [
    {
     "name": "stdout",
     "output_type": "stream",
     "text": [
      "['2024-04-04' '2024-04-03' '2024-04-02' ... '1988-06-29' '1988-06-28'\n",
      " '1988-06-27']\n",
      "['12/9/2023' '11/9/2023' '8/9/2023' ... '13/7/2006' '12/7/2006'\n",
      " '11/7/2006']\n",
      "['2010-01-01' '2010-01-04' '2010-01-05' ... '2023-08-29' '2023-08-30'\n",
      " '2023-08-31']\n"
     ]
    }
   ],
   "source": [
    "print(dfX['Date'].unique())\n",
    "print(dfY['Date'].unique())\n",
    "print(dfZ['Date'].unique())"
   ]
  },
  {
   "cell_type": "markdown",
   "id": "61040800",
   "metadata": {},
   "source": [
    "en la siguiente celda se modificará el tipo de dato de la fecha de los 3 dataframe"
   ]
  },
  {
   "cell_type": "code",
   "execution_count": 8,
   "id": "c277c35f",
   "metadata": {},
   "outputs": [],
   "source": [
    "dfX['Date'] = pd.to_datetime(dfX['Date'])\n",
    "dfY['Date'] = pd.to_datetime(dfY['Date'], format=\"%d/%m/%Y\")\n",
    "dfZ['Date'] = pd.to_datetime(dfZ['Date'])"
   ]
  },
  {
   "cell_type": "markdown",
   "id": "ed7a561e",
   "metadata": {},
   "source": [
    "notece que los datos de Y estaban en otro formato"
   ]
  },
  {
   "cell_type": "code",
   "execution_count": 9,
   "id": "2c121fee",
   "metadata": {},
   "outputs": [
    {
     "data": {
      "text/html": [
       "<div>\n",
       "<style scoped>\n",
       "    .dataframe tbody tr th:only-of-type {\n",
       "        vertical-align: middle;\n",
       "    }\n",
       "\n",
       "    .dataframe tbody tr th {\n",
       "        vertical-align: top;\n",
       "    }\n",
       "\n",
       "    .dataframe thead th {\n",
       "        text-align: right;\n",
       "    }\n",
       "</style>\n",
       "<table border=\"1\" class=\"dataframe\">\n",
       "  <thead>\n",
       "    <tr style=\"text-align: right;\">\n",
       "      <th></th>\n",
       "      <th>P_z</th>\n",
       "      <th>Date</th>\n",
       "    </tr>\n",
       "  </thead>\n",
       "  <tbody>\n",
       "    <tr>\n",
       "      <th>0</th>\n",
       "      <td>2225.25</td>\n",
       "      <td>2010-01-01</td>\n",
       "    </tr>\n",
       "    <tr>\n",
       "      <th>1</th>\n",
       "      <td>2225.25</td>\n",
       "      <td>2010-01-04</td>\n",
       "    </tr>\n",
       "    <tr>\n",
       "      <th>2</th>\n",
       "      <td>2246.50</td>\n",
       "      <td>2010-01-05</td>\n",
       "    </tr>\n",
       "  </tbody>\n",
       "</table>\n",
       "</div>"
      ],
      "text/plain": [
       "       P_z       Date\n",
       "0  2225.25 2010-01-01\n",
       "1  2225.25 2010-01-04\n",
       "2  2246.50 2010-01-05"
      ]
     },
     "execution_count": 9,
     "metadata": {},
     "output_type": "execute_result"
    }
   ],
   "source": [
    "dfZ.head(3)"
   ]
  },
  {
   "cell_type": "markdown",
   "id": "c4f6682d",
   "metadata": {},
   "source": [
    "Ahora, los datos de los precios tambien hay que arreglarlos pues unos tienen el decimal con coma y otro con punto, comparemos el dfZ que esta arriba (decimal con punto) y el dataframe dfY (decimal con coma)"
   ]
  },
  {
   "cell_type": "code",
   "execution_count": 10,
   "id": "cbf52742",
   "metadata": {},
   "outputs": [
    {
     "data": {
      "text/html": [
       "<div>\n",
       "<style scoped>\n",
       "    .dataframe tbody tr th:only-of-type {\n",
       "        vertical-align: middle;\n",
       "    }\n",
       "\n",
       "    .dataframe tbody tr th {\n",
       "        vertical-align: top;\n",
       "    }\n",
       "\n",
       "    .dataframe thead th {\n",
       "        text-align: right;\n",
       "    }\n",
       "</style>\n",
       "<table border=\"1\" class=\"dataframe\">\n",
       "  <thead>\n",
       "    <tr style=\"text-align: right;\">\n",
       "      <th></th>\n",
       "      <th>Date</th>\n",
       "      <th>P_y</th>\n",
       "    </tr>\n",
       "  </thead>\n",
       "  <tbody>\n",
       "    <tr>\n",
       "      <th>0</th>\n",
       "      <td>2023-09-12</td>\n",
       "      <td>547,33</td>\n",
       "    </tr>\n",
       "    <tr>\n",
       "      <th>1</th>\n",
       "      <td>2023-09-11</td>\n",
       "      <td>546</td>\n",
       "    </tr>\n",
       "    <tr>\n",
       "      <th>2</th>\n",
       "      <td>2023-09-08</td>\n",
       "      <td>545</td>\n",
       "    </tr>\n",
       "    <tr>\n",
       "      <th>3</th>\n",
       "      <td>2023-09-07</td>\n",
       "      <td>550</td>\n",
       "    </tr>\n",
       "    <tr>\n",
       "      <th>4</th>\n",
       "      <td>2023-09-06</td>\n",
       "      <td>552,5</td>\n",
       "    </tr>\n",
       "  </tbody>\n",
       "</table>\n",
       "</div>"
      ],
      "text/plain": [
       "        Date     P_y\n",
       "0 2023-09-12  547,33\n",
       "1 2023-09-11     546\n",
       "2 2023-09-08     545\n",
       "3 2023-09-07     550\n",
       "4 2023-09-06   552,5"
      ]
     },
     "execution_count": 10,
     "metadata": {},
     "output_type": "execute_result"
    }
   ],
   "source": [
    "dfY.head()"
   ]
  },
  {
   "cell_type": "markdown",
   "id": "55cebe31",
   "metadata": {},
   "source": [
    "Como los valores numericos de dfY tienen el decimal con coma, se debe cambiar a punto para que sea consistente con los otros dataframes. Esto se puede hacer reemplazando la coma por un punto en la columna 'P_y'."
   ]
  },
  {
   "cell_type": "code",
   "execution_count": 11,
   "id": "0d2605e8",
   "metadata": {},
   "outputs": [],
   "source": [
    "dfY[\"P_y\"] = dfY[\"P_y\"].str.replace(\",\", \".\", regex=False)"
   ]
  },
  {
   "cell_type": "code",
   "execution_count": 12,
   "id": "546d7a01",
   "metadata": {},
   "outputs": [
    {
     "data": {
      "text/html": [
       "<div>\n",
       "<style scoped>\n",
       "    .dataframe tbody tr th:only-of-type {\n",
       "        vertical-align: middle;\n",
       "    }\n",
       "\n",
       "    .dataframe tbody tr th {\n",
       "        vertical-align: top;\n",
       "    }\n",
       "\n",
       "    .dataframe thead th {\n",
       "        text-align: right;\n",
       "    }\n",
       "</style>\n",
       "<table border=\"1\" class=\"dataframe\">\n",
       "  <thead>\n",
       "    <tr style=\"text-align: right;\">\n",
       "      <th></th>\n",
       "      <th>Date</th>\n",
       "      <th>P_y</th>\n",
       "    </tr>\n",
       "  </thead>\n",
       "  <tbody>\n",
       "    <tr>\n",
       "      <th>0</th>\n",
       "      <td>2023-09-12</td>\n",
       "      <td>547.33</td>\n",
       "    </tr>\n",
       "    <tr>\n",
       "      <th>1</th>\n",
       "      <td>2023-09-11</td>\n",
       "      <td>546</td>\n",
       "    </tr>\n",
       "    <tr>\n",
       "      <th>2</th>\n",
       "      <td>2023-09-08</td>\n",
       "      <td>545</td>\n",
       "    </tr>\n",
       "    <tr>\n",
       "      <th>3</th>\n",
       "      <td>2023-09-07</td>\n",
       "      <td>550</td>\n",
       "    </tr>\n",
       "    <tr>\n",
       "      <th>4</th>\n",
       "      <td>2023-09-06</td>\n",
       "      <td>552.5</td>\n",
       "    </tr>\n",
       "  </tbody>\n",
       "</table>\n",
       "</div>"
      ],
      "text/plain": [
       "        Date     P_y\n",
       "0 2023-09-12  547.33\n",
       "1 2023-09-11     546\n",
       "2 2023-09-08     545\n",
       "3 2023-09-07     550\n",
       "4 2023-09-06   552.5"
      ]
     },
     "execution_count": 12,
     "metadata": {},
     "output_type": "execute_result"
    }
   ],
   "source": [
    "dfY.head()"
   ]
  },
  {
   "cell_type": "code",
   "execution_count": 13,
   "id": "a61c3a45",
   "metadata": {},
   "outputs": [],
   "source": [
    "dfY= dfY.astype({\"P_y\": \"float64\"})"
   ]
  },
  {
   "cell_type": "code",
   "execution_count": 14,
   "id": "b3aa7f89",
   "metadata": {},
   "outputs": [
    {
     "name": "stdout",
     "output_type": "stream",
     "text": [
      "datetime64[ns] float64\n"
     ]
    }
   ],
   "source": [
    "print(dfY['Date'].dtype,dfY['P_y'].dtype)"
   ]
  },
  {
   "cell_type": "code",
   "execution_count": 15,
   "id": "d3cab943",
   "metadata": {},
   "outputs": [],
   "source": [
    "merge=dfX.merge(dfY, on=\"Date\").merge(dfZ, on=\"Date\")\n",
    "merge.set_index(\"Date\", inplace=True)"
   ]
  },
  {
   "cell_type": "code",
   "execution_count": 16,
   "id": "11ae0cdb",
   "metadata": {},
   "outputs": [
    {
     "data": {
      "text/html": [
       "<div>\n",
       "<style scoped>\n",
       "    .dataframe tbody tr th:only-of-type {\n",
       "        vertical-align: middle;\n",
       "    }\n",
       "\n",
       "    .dataframe tbody tr th {\n",
       "        vertical-align: top;\n",
       "    }\n",
       "\n",
       "    .dataframe thead th {\n",
       "        text-align: right;\n",
       "    }\n",
       "</style>\n",
       "<table border=\"1\" class=\"dataframe\">\n",
       "  <thead>\n",
       "    <tr style=\"text-align: right;\">\n",
       "      <th></th>\n",
       "      <th>P_x</th>\n",
       "      <th>P_y</th>\n",
       "      <th>P_z</th>\n",
       "    </tr>\n",
       "    <tr>\n",
       "      <th>Date</th>\n",
       "      <th></th>\n",
       "      <th></th>\n",
       "      <th></th>\n",
       "    </tr>\n",
       "  </thead>\n",
       "  <tbody>\n",
       "    <tr>\n",
       "      <th>2023-08-31</th>\n",
       "      <td>86.86</td>\n",
       "      <td>545.00</td>\n",
       "      <td>2165.25</td>\n",
       "    </tr>\n",
       "    <tr>\n",
       "      <th>2023-08-30</th>\n",
       "      <td>85.86</td>\n",
       "      <td>543.67</td>\n",
       "      <td>2140.25</td>\n",
       "    </tr>\n",
       "    <tr>\n",
       "      <th>2023-08-29</th>\n",
       "      <td>85.49</td>\n",
       "      <td>545.33</td>\n",
       "      <td>2116.25</td>\n",
       "    </tr>\n",
       "    <tr>\n",
       "      <th>2023-08-28</th>\n",
       "      <td>84.42</td>\n",
       "      <td>549.00</td>\n",
       "      <td>2116.25</td>\n",
       "    </tr>\n",
       "    <tr>\n",
       "      <th>2023-08-25</th>\n",
       "      <td>84.48</td>\n",
       "      <td>554.00</td>\n",
       "      <td>2123.50</td>\n",
       "    </tr>\n",
       "  </tbody>\n",
       "</table>\n",
       "</div>"
      ],
      "text/plain": [
       "              P_x     P_y      P_z\n",
       "Date                              \n",
       "2023-08-31  86.86  545.00  2165.25\n",
       "2023-08-30  85.86  543.67  2140.25\n",
       "2023-08-29  85.49  545.33  2116.25\n",
       "2023-08-28  84.42  549.00  2116.25\n",
       "2023-08-25  84.48  554.00  2123.50"
      ]
     },
     "execution_count": 16,
     "metadata": {},
     "output_type": "execute_result"
    }
   ],
   "source": [
    "merge.head()"
   ]
  },
  {
   "cell_type": "markdown",
   "id": "c7cff858",
   "metadata": {},
   "source": [
    "No hay datos nulos ni vacios en el merge"
   ]
  },
  {
   "cell_type": "code",
   "execution_count": 17,
   "id": "14ebf044",
   "metadata": {},
   "outputs": [
    {
     "name": "stdout",
     "output_type": "stream",
     "text": [
      "<class 'pandas.core.frame.DataFrame'>\n",
      "DatetimeIndex: 3530 entries, 2023-08-31 to 2010-01-04\n",
      "Data columns (total 3 columns):\n",
      " #   Column  Non-Null Count  Dtype  \n",
      "---  ------  --------------  -----  \n",
      " 0   P_x     3530 non-null   float64\n",
      " 1   P_y     3530 non-null   float64\n",
      " 2   P_z     3530 non-null   float64\n",
      "dtypes: float64(3)\n",
      "memory usage: 110.3 KB\n"
     ]
    }
   ],
   "source": [
    "merge.info()"
   ]
  },
  {
   "cell_type": "code",
   "execution_count": 18,
   "id": "cee3fd30",
   "metadata": {},
   "outputs": [
    {
     "name": "stdout",
     "output_type": "stream",
     "text": [
      "<class 'pandas.core.frame.DataFrame'>\n",
      "RangeIndex: 9144 entries, 0 to 9143\n",
      "Data columns (total 2 columns):\n",
      " #   Column  Non-Null Count  Dtype  \n",
      "---  ------  --------------  -----  \n",
      " 0   Date    9144 non-null   object \n",
      " 1   Price   9144 non-null   float64\n",
      "dtypes: float64(1), object(1)\n",
      "memory usage: 143.0+ KB\n",
      "<class 'pandas.core.frame.DataFrame'>\n",
      "RangeIndex: 4485 entries, 0 to 4484\n",
      "Data columns (total 2 columns):\n",
      " #   Column  Non-Null Count  Dtype \n",
      "---  ------  --------------  ----- \n",
      " 0   Date    4485 non-null   object\n",
      " 1   Price   4485 non-null   object\n",
      "dtypes: object(2)\n",
      "memory usage: 70.2+ KB\n",
      "<class 'pandas.core.frame.DataFrame'>\n",
      "RangeIndex: 3565 entries, 0 to 3564\n",
      "Data columns (total 2 columns):\n",
      " #   Column  Non-Null Count  Dtype  \n",
      "---  ------  --------------  -----  \n",
      " 0   Price   3565 non-null   float64\n",
      " 1   Date    3565 non-null   object \n",
      "dtypes: float64(1), object(1)\n",
      "memory usage: 55.8+ KB\n",
      "None None None\n"
     ]
    }
   ],
   "source": [
    "print(df_X.info(),df_Y.info(),df_Z.info())"
   ]
  },
  {
   "cell_type": "markdown",
   "id": "31a9ccbc",
   "metadata": {},
   "source": [
    "Los datos se redujeron a 3530 filas, dado que en el merge necesitamos datos de todas las materias primas en cada fecha, debido a que los datos de la materia prima Z es la mas pequeña el número de filas sera igual o menos a este, y si hay una fecha sin alguno de los valores de las materias primas en x o y esa fila será eliminada"
   ]
  },
  {
   "cell_type": "code",
   "execution_count": 19,
   "id": "2da13bc6",
   "metadata": {},
   "outputs": [
    {
     "data": {
      "image/png": "[encoded data removed]",
      "text/plain": [
       "<Figure size 1000x500 with 1 Axes>"
      ]
     },
     "metadata": {},
     "output_type": "display_data"
    }
   ],
   "source": [
    "plt.figure(figsize=(10,5))\n",
    "sns.lineplot(data=merge, x=\"Date\", y=\"P_x\", label=\"Precio materia prima X\")\n",
    "sns.lineplot(data=merge, x=\"Date\", y=\"P_y\", label=\"Precio materia prima Y\")\n",
    "sns.lineplot(data=merge, x=\"Date\", y=\"P_z\", label=\"Precio materia prima Z\")\n",
    "\n",
    "plt.title(\"Evolución de precios\")\n",
    "plt.xlabel(\"Fecha\")\n",
    "plt.ylabel(\"Precio\")\n",
    "plt.xticks(rotation=45)\n",
    "plt.grid(True)\n",
    "plt.legend()\n",
    "plt.show()"
   ]
  },
  {
   "cell_type": "markdown",
   "id": "178b423e",
   "metadata": {},
   "source": [
    "Ahora que los datos de los precios tienen el formato correcto, y estan corregidos, es posible hallar los precios de los equipos 1 y 2, teniendo en cuenta las instrucciones, el equipo 1 esta compuesto por 20% de la materia prima X y el resto (80%)por la materia prima Y, mientras que el equipo 2 se reparte en partes iguales (1/3 cada una)"
   ]
  },
  {
   "cell_type": "code",
   "execution_count": 20,
   "id": "dea9d318",
   "metadata": {},
   "outputs": [
    {
     "data": {
      "text/html": [
       "<div>\n",
       "<style scoped>\n",
       "    .dataframe tbody tr th:only-of-type {\n",
       "        vertical-align: middle;\n",
       "    }\n",
       "\n",
       "    .dataframe tbody tr th {\n",
       "        vertical-align: top;\n",
       "    }\n",
       "\n",
       "    .dataframe thead th {\n",
       "        text-align: right;\n",
       "    }\n",
       "</style>\n",
       "<table border=\"1\" class=\"dataframe\">\n",
       "  <thead>\n",
       "    <tr style=\"text-align: right;\">\n",
       "      <th></th>\n",
       "      <th>Equipo1</th>\n",
       "      <th>Equipo2</th>\n",
       "    </tr>\n",
       "    <tr>\n",
       "      <th>Date</th>\n",
       "      <th></th>\n",
       "      <th></th>\n",
       "    </tr>\n",
       "  </thead>\n",
       "  <tbody>\n",
       "    <tr>\n",
       "      <th>2023-08-31</th>\n",
       "      <td>453.372</td>\n",
       "      <td>932.37</td>\n",
       "    </tr>\n",
       "    <tr>\n",
       "      <th>2023-08-30</th>\n",
       "      <td>452.108</td>\n",
       "      <td>923.26</td>\n",
       "    </tr>\n",
       "    <tr>\n",
       "      <th>2023-08-29</th>\n",
       "      <td>453.362</td>\n",
       "      <td>915.69</td>\n",
       "    </tr>\n",
       "  </tbody>\n",
       "</table>\n",
       "</div>"
      ],
      "text/plain": [
       "            Equipo1  Equipo2\n",
       "Date                        \n",
       "2023-08-31  453.372   932.37\n",
       "2023-08-30  452.108   923.26\n",
       "2023-08-29  453.362   915.69"
      ]
     },
     "execution_count": 20,
     "metadata": {},
     "output_type": "execute_result"
    }
   ],
   "source": [
    "df= pd.DataFrame({\n",
    "    \"Date\": merge.index,\n",
    "    \"Equipo1\": 0.2 * merge[\"P_x\"] + 0.8 * merge[\"P_y\"],\n",
    "    \"Equipo2\": (merge[\"P_x\"] + merge[\"P_y\"] + merge[\"P_z\"]) / 3\n",
    "})\n",
    "df.set_index(\"Date\", inplace=True)\n",
    "df.head(3)"
   ]
  },
  {
   "cell_type": "code",
   "execution_count": 21,
   "id": "512a82e9",
   "metadata": {},
   "outputs": [
    {
     "data": {
      "image/png": "[encoded data removed]",
      "text/plain": [
       "<Figure size 1000x500 with 1 Axes>"
      ]
     },
     "metadata": {},
     "output_type": "display_data"
    }
   ],
   "source": [
    "plt.figure(figsize=(10,5))\n",
    "sns.lineplot(data=df, x=\"Date\", y=\"Equipo1\", label=\"Precio equipo 1\")\n",
    "sns.lineplot(data=df, x=\"Date\", y=\"Equipo2\", label=\"Precio equipo 2\")\n",
    "\n",
    "plt.title(\"Evolución de precios\")\n",
    "plt.xlabel(\"Fecha\")\n",
    "plt.ylabel(\"Precio\")\n",
    "plt.xticks(rotation=45)\n",
    "plt.grid(True)\n",
    "plt.legend()\n",
    "plt.show()"
   ]
  },
  {
   "cell_type": "code",
   "execution_count": 22,
   "id": "fc4b24f7",
   "metadata": {},
   "outputs": [
    {
     "data": {
      "text/html": [
       "<div>\n",
       "<style scoped>\n",
       "    .dataframe tbody tr th:only-of-type {\n",
       "        vertical-align: middle;\n",
       "    }\n",
       "\n",
       "    .dataframe tbody tr th {\n",
       "        vertical-align: top;\n",
       "    }\n",
       "\n",
       "    .dataframe thead th {\n",
       "        text-align: right;\n",
       "    }\n",
       "</style>\n",
       "<table border=\"1\" class=\"dataframe\">\n",
       "  <thead>\n",
       "    <tr style=\"text-align: right;\">\n",
       "      <th></th>\n",
       "      <th>Equipo1</th>\n",
       "      <th>Equipo2</th>\n",
       "    </tr>\n",
       "  </thead>\n",
       "  <tbody>\n",
       "    <tr>\n",
       "      <th>count</th>\n",
       "      <td>3530.000000</td>\n",
       "      <td>3530.000000</td>\n",
       "    </tr>\n",
       "    <tr>\n",
       "      <th>mean</th>\n",
       "      <td>460.039889</td>\n",
       "      <td>890.350065</td>\n",
       "    </tr>\n",
       "    <tr>\n",
       "      <th>std</th>\n",
       "      <td>113.352741</td>\n",
       "      <td>169.531556</td>\n",
       "    </tr>\n",
       "    <tr>\n",
       "      <th>min</th>\n",
       "      <td>213.222000</td>\n",
       "      <td>577.026667</td>\n",
       "    </tr>\n",
       "    <tr>\n",
       "      <th>25%</th>\n",
       "      <td>399.035000</td>\n",
       "      <td>780.118333</td>\n",
       "    </tr>\n",
       "    <tr>\n",
       "      <th>50%</th>\n",
       "      <td>449.834000</td>\n",
       "      <td>873.636667</td>\n",
       "    </tr>\n",
       "    <tr>\n",
       "      <th>75%</th>\n",
       "      <td>514.120000</td>\n",
       "      <td>979.438333</td>\n",
       "    </tr>\n",
       "    <tr>\n",
       "      <th>max</th>\n",
       "      <td>863.760000</td>\n",
       "      <td>1668.053333</td>\n",
       "    </tr>\n",
       "  </tbody>\n",
       "</table>\n",
       "</div>"
      ],
      "text/plain": [
       "           Equipo1      Equipo2\n",
       "count  3530.000000  3530.000000\n",
       "mean    460.039889   890.350065\n",
       "std     113.352741   169.531556\n",
       "min     213.222000   577.026667\n",
       "25%     399.035000   780.118333\n",
       "50%     449.834000   873.636667\n",
       "75%     514.120000   979.438333\n",
       "max     863.760000  1668.053333"
      ]
     },
     "execution_count": 22,
     "metadata": {},
     "output_type": "execute_result"
    }
   ],
   "source": [
    "df.describe()"
   ]
  },
  {
   "cell_type": "code",
   "execution_count": 23,
   "id": "48f7abe5",
   "metadata": {},
   "outputs": [
    {
     "data": {
      "text/html": [
       "<div>\n",
       "<style scoped>\n",
       "    .dataframe tbody tr th:only-of-type {\n",
       "        vertical-align: middle;\n",
       "    }\n",
       "\n",
       "    .dataframe tbody tr th {\n",
       "        vertical-align: top;\n",
       "    }\n",
       "\n",
       "    .dataframe thead th {\n",
       "        text-align: right;\n",
       "    }\n",
       "</style>\n",
       "<table border=\"1\" class=\"dataframe\">\n",
       "  <thead>\n",
       "    <tr style=\"text-align: right;\">\n",
       "      <th></th>\n",
       "      <th>Equipo1</th>\n",
       "      <th>Equipo2</th>\n",
       "    </tr>\n",
       "    <tr>\n",
       "      <th>Date</th>\n",
       "      <th></th>\n",
       "      <th></th>\n",
       "    </tr>\n",
       "  </thead>\n",
       "  <tbody>\n",
       "    <tr>\n",
       "      <th>2023-08-31</th>\n",
       "      <td>453.372</td>\n",
       "      <td>932.37</td>\n",
       "    </tr>\n",
       "    <tr>\n",
       "      <th>2023-08-30</th>\n",
       "      <td>452.108</td>\n",
       "      <td>923.26</td>\n",
       "    </tr>\n",
       "    <tr>\n",
       "      <th>2023-08-29</th>\n",
       "      <td>453.362</td>\n",
       "      <td>915.69</td>\n",
       "    </tr>\n",
       "  </tbody>\n",
       "</table>\n",
       "</div>"
      ],
      "text/plain": [
       "            Equipo1  Equipo2\n",
       "Date                        \n",
       "2023-08-31  453.372   932.37\n",
       "2023-08-30  452.108   923.26\n",
       "2023-08-29  453.362   915.69"
      ]
     },
     "execution_count": 23,
     "metadata": {},
     "output_type": "execute_result"
    }
   ],
   "source": [
    "df.head(3)"
   ]
  },
  {
   "cell_type": "markdown",
   "id": "6845f01a",
   "metadata": {},
   "source": [
    "### Modelo de N-Beats"
   ]
  },
  {
   "cell_type": "markdown",
   "id": "27e9721a",
   "metadata": {},
   "source": [
    "Este modelo funciona refinando varias veces sobre cada franja de entrenamiento dentro de stacks que estos a su vez tienen bloques de refinamiento, cada stack refina caracteristicas distintas que al final suman sus forecast(predicciones parciales) para generar la prediccion final"
   ]
  },
  {
   "cell_type": "code",
   "execution_count": 24,
   "id": "6a938fd8",
   "metadata": {},
   "outputs": [],
   "source": [
    "DF=merge.copy()\n",
    "DF=DF.resample(\"MS\").mean()\n"
   ]
  },
  {
   "cell_type": "markdown",
   "id": "4e21b0d7",
   "metadata": {},
   "source": [
    "Debido a que se quieren los valores de los siguientes 36 meses, se cambia la frecuancia de los datos en el mismo tiempo (meses), esto hará que se calculen los precios de forma mensual en lugar de diaria, ademas suavisa las curvas en los picos, lo que puede mejorar la ."
   ]
  },
  {
   "cell_type": "code",
   "execution_count": 25,
   "id": "e9aabb67",
   "metadata": {},
   "outputs": [
    {
     "data": {
      "image/png": "[encoded data removed]",
      "text/plain": [
       "<Figure size 1000x500 with 1 Axes>"
      ]
     },
     "metadata": {},
     "output_type": "display_data"
    }
   ],
   "source": [
    "plt.figure(figsize=(10,5))\n",
    "sns.lineplot(data=merge, x=\"Date\", y=\"P_x\", label=\"Precio materia prima X\")\n",
    "sns.lineplot(data=merge, x=\"Date\", y=\"P_y\", label=\"Precio materia prima Y\")\n",
    "sns.lineplot(data=merge, x=\"Date\", y=\"P_z\", label=\"Precio materia prima Z\")\n",
    "sns.lineplot(data=DF, x=DF.index, y=\"P_x\", label=\"Precio materia prima X (promedio mensual)\",markers=\"o\")\n",
    "sns.lineplot(data=DF, x=DF.index, y=\"P_y\", label=\"Precio materia prima Y (promedio mensual)\",markers=\"o\")\n",
    "sns.lineplot(data=DF, x=DF.index, y=\"P_z\", label=\"Precio materia prima Z (promedio mensual)\",markers=\"o\")\n",
    "\n",
    "plt.title(\"Evolución de precios\")\n",
    "plt.xlabel(\"Fecha\")\n",
    "plt.ylabel(\"Precio\")\n",
    "plt.xticks(rotation=45)\n",
    "plt.grid(True)\n",
    "plt.legend()\n",
    "plt.show()"
   ]
  },
  {
   "cell_type": "code",
   "execution_count": 26,
   "id": "5c312cdf",
   "metadata": {},
   "outputs": [],
   "source": [
    "assert DF.index.is_monotonic_increasing #verificar si las fechas estan en orden creciente\n",
    "assert DF[['P_x','P_y','P_z']].notnull().all().all()#nuevamente se verifica que no haya valores nulos"
   ]
  },
  {
   "cell_type": "code",
   "execution_count": 27,
   "id": "c5b4cfed",
   "metadata": {},
   "outputs": [],
   "source": [
    "DF['Equipo_1'] = 0.2*DF['P_x'] + 0.8*DF['P_y']\n",
    "DF['Equipo_2'] = (DF['P_x'] + DF['P_y'] + DF['P_z'])/3"
   ]
  },
  {
   "cell_type": "code",
   "execution_count": 28,
   "id": "1883f17f",
   "metadata": {},
   "outputs": [
    {
     "data": {
      "text/html": [
       "<div>\n",
       "<style scoped>\n",
       "    .dataframe tbody tr th:only-of-type {\n",
       "        vertical-align: middle;\n",
       "    }\n",
       "\n",
       "    .dataframe tbody tr th {\n",
       "        vertical-align: top;\n",
       "    }\n",
       "\n",
       "    .dataframe thead th {\n",
       "        text-align: right;\n",
       "    }\n",
       "</style>\n",
       "<table border=\"1\" class=\"dataframe\">\n",
       "  <thead>\n",
       "    <tr style=\"text-align: right;\">\n",
       "      <th></th>\n",
       "      <th>P_x</th>\n",
       "      <th>P_y</th>\n",
       "      <th>P_z</th>\n",
       "      <th>Equipo_1</th>\n",
       "      <th>Equipo_2</th>\n",
       "    </tr>\n",
       "    <tr>\n",
       "      <th>Date</th>\n",
       "      <th></th>\n",
       "      <th></th>\n",
       "      <th></th>\n",
       "      <th></th>\n",
       "      <th></th>\n",
       "    </tr>\n",
       "  </thead>\n",
       "  <tbody>\n",
       "    <tr>\n",
       "      <th>2010-01-01</th>\n",
       "      <td>77.013000</td>\n",
       "      <td>547.000000</td>\n",
       "      <td>2234.325000</td>\n",
       "      <td>453.002600</td>\n",
       "      <td>952.779333</td>\n",
       "    </tr>\n",
       "    <tr>\n",
       "      <th>2010-02-01</th>\n",
       "      <td>74.790000</td>\n",
       "      <td>538.000000</td>\n",
       "      <td>2048.575000</td>\n",
       "      <td>445.358000</td>\n",
       "      <td>887.121667</td>\n",
       "    </tr>\n",
       "    <tr>\n",
       "      <th>2010-03-01</th>\n",
       "      <td>79.931304</td>\n",
       "      <td>606.630435</td>\n",
       "      <td>2204.130435</td>\n",
       "      <td>501.290609</td>\n",
       "      <td>963.564058</td>\n",
       "    </tr>\n",
       "  </tbody>\n",
       "</table>\n",
       "</div>"
      ],
      "text/plain": [
       "                  P_x         P_y          P_z    Equipo_1    Equipo_2\n",
       "Date                                                                  \n",
       "2010-01-01  77.013000  547.000000  2234.325000  453.002600  952.779333\n",
       "2010-02-01  74.790000  538.000000  2048.575000  445.358000  887.121667\n",
       "2010-03-01  79.931304  606.630435  2204.130435  501.290609  963.564058"
      ]
     },
     "execution_count": 28,
     "metadata": {},
     "output_type": "execute_result"
    }
   ],
   "source": [
    "DF.head(3)"
   ]
  },
  {
   "cell_type": "markdown",
   "id": "a44951f9",
   "metadata": {},
   "source": [
    "## Prueba entrenando de a una materia prima"
   ]
  },
  {
   "cell_type": "code",
   "execution_count": 28,
   "id": "a3b8a267",
   "metadata": {},
   "outputs": [],
   "source": [
    "DF=merge.copy()\n",
    "DF=DF.resample(\"MS\").mean()"
   ]
  },
  {
   "cell_type": "markdown",
   "id": "1b5bdec6",
   "metadata": {},
   "source": [
    "Como tenemos el formato ancho y utilizaremo pytorch-forecasting, este espera los datos en formato largo para identificar que serie es, por lo que se deja la fecha como una columna, una columna llamada 'serie' que se convertirá en la id del grupo, de esta forma utiliza un solo modelo para todas las serias que en este caso serian los precios de las materias primas"
   ]
  },
  {
   "cell_type": "code",
   "execution_count": 29,
   "id": "ee2f696c",
   "metadata": {},
   "outputs": [],
   "source": [
    "df_long = DF.reset_index().melt(id_vars=\"Date\", \n",
    "                                   value_vars=[\"P_x\", \"P_y\", \"P_z\"],\n",
    "                                   var_name=\"series\", \n",
    "                                   value_name=\"precio\")\n",
    "\n",
    "# Crear índice de tiempo entero\n",
    "df_long[\"time_idx\"] = df_long[\"Date\"].rank(method=\"first\").astype(int)"
   ]
  },
  {
   "cell_type": "code",
   "execution_count": 30,
   "id": "5cac330f",
   "metadata": {},
   "outputs": [
    {
     "data": {
      "text/html": [
       "<div>\n",
       "<style scoped>\n",
       "    .dataframe tbody tr th:only-of-type {\n",
       "        vertical-align: middle;\n",
       "    }\n",
       "\n",
       "    .dataframe tbody tr th {\n",
       "        vertical-align: top;\n",
       "    }\n",
       "\n",
       "    .dataframe thead th {\n",
       "        text-align: right;\n",
       "    }\n",
       "</style>\n",
       "<table border=\"1\" class=\"dataframe\">\n",
       "  <thead>\n",
       "    <tr style=\"text-align: right;\">\n",
       "      <th></th>\n",
       "      <th>Date</th>\n",
       "      <th>series</th>\n",
       "      <th>precio</th>\n",
       "      <th>time_idx</th>\n",
       "    </tr>\n",
       "  </thead>\n",
       "  <tbody>\n",
       "    <tr>\n",
       "      <th>0</th>\n",
       "      <td>2010-01-01</td>\n",
       "      <td>P_x</td>\n",
       "      <td>77.013000</td>\n",
       "      <td>1</td>\n",
       "    </tr>\n",
       "    <tr>\n",
       "      <th>1</th>\n",
       "      <td>2010-02-01</td>\n",
       "      <td>P_x</td>\n",
       "      <td>74.790000</td>\n",
       "      <td>4</td>\n",
       "    </tr>\n",
       "    <tr>\n",
       "      <th>2</th>\n",
       "      <td>2010-03-01</td>\n",
       "      <td>P_x</td>\n",
       "      <td>79.931304</td>\n",
       "      <td>7</td>\n",
       "    </tr>\n",
       "    <tr>\n",
       "      <th>3</th>\n",
       "      <td>2010-04-01</td>\n",
       "      <td>P_x</td>\n",
       "      <td>85.753810</td>\n",
       "      <td>10</td>\n",
       "    </tr>\n",
       "    <tr>\n",
       "      <th>4</th>\n",
       "      <td>2010-05-01</td>\n",
       "      <td>P_x</td>\n",
       "      <td>76.997619</td>\n",
       "      <td>13</td>\n",
       "    </tr>\n",
       "    <tr>\n",
       "      <th>5</th>\n",
       "      <td>2010-06-01</td>\n",
       "      <td>P_x</td>\n",
       "      <td>75.658636</td>\n",
       "      <td>16</td>\n",
       "    </tr>\n",
       "    <tr>\n",
       "      <th>6</th>\n",
       "      <td>2010-07-01</td>\n",
       "      <td>P_x</td>\n",
       "      <td>75.356364</td>\n",
       "      <td>19</td>\n",
       "    </tr>\n",
       "    <tr>\n",
       "      <th>7</th>\n",
       "      <td>2010-08-01</td>\n",
       "      <td>P_x</td>\n",
       "      <td>77.115000</td>\n",
       "      <td>22</td>\n",
       "    </tr>\n",
       "    <tr>\n",
       "      <th>8</th>\n",
       "      <td>2010-09-01</td>\n",
       "      <td>P_x</td>\n",
       "      <td>78.417273</td>\n",
       "      <td>25</td>\n",
       "    </tr>\n",
       "    <tr>\n",
       "      <th>9</th>\n",
       "      <td>2010-10-01</td>\n",
       "      <td>P_x</td>\n",
       "      <td>83.536190</td>\n",
       "      <td>28</td>\n",
       "    </tr>\n",
       "    <tr>\n",
       "      <th>10</th>\n",
       "      <td>2010-11-01</td>\n",
       "      <td>P_x</td>\n",
       "      <td>86.159545</td>\n",
       "      <td>31</td>\n",
       "    </tr>\n",
       "    <tr>\n",
       "      <th>11</th>\n",
       "      <td>2010-12-01</td>\n",
       "      <td>P_x</td>\n",
       "      <td>92.254783</td>\n",
       "      <td>34</td>\n",
       "    </tr>\n",
       "    <tr>\n",
       "      <th>12</th>\n",
       "      <td>2011-01-01</td>\n",
       "      <td>P_x</td>\n",
       "      <td>96.907143</td>\n",
       "      <td>37</td>\n",
       "    </tr>\n",
       "  </tbody>\n",
       "</table>\n",
       "</div>"
      ],
      "text/plain": [
       "         Date series     precio  time_idx\n",
       "0  2010-01-01    P_x  77.013000         1\n",
       "1  2010-02-01    P_x  74.790000         4\n",
       "2  2010-03-01    P_x  79.931304         7\n",
       "3  2010-04-01    P_x  85.753810        10\n",
       "4  2010-05-01    P_x  76.997619        13\n",
       "5  2010-06-01    P_x  75.658636        16\n",
       "6  2010-07-01    P_x  75.356364        19\n",
       "7  2010-08-01    P_x  77.115000        22\n",
       "8  2010-09-01    P_x  78.417273        25\n",
       "9  2010-10-01    P_x  83.536190        28\n",
       "10 2010-11-01    P_x  86.159545        31\n",
       "11 2010-12-01    P_x  92.254783        34\n",
       "12 2011-01-01    P_x  96.907143        37"
      ]
     },
     "execution_count": 30,
     "metadata": {},
     "output_type": "execute_result"
    }
   ],
   "source": [
    "df_long.head(13)"
   ]
  },
  {
   "cell_type": "code",
   "execution_count": 31,
   "id": "20a94249",
   "metadata": {},
   "outputs": [],
   "source": [
    "import pandas as pd\n",
    "from pytorch_forecasting import TimeSeriesDataSet\n",
    "from pytorch_forecasting.data.encoders import TorchNormalizer\n",
    "\n",
    "# df_long: columnas [\"Date\",\"series\",\"precio\",\"time_idx\"] con time_idx = cumcount() por serie\n",
    "\n",
    "max_encoder_length = 24\n",
    "max_prediction_length = 4\n",
    "\n",
    "datasets = {}\n",
    "\n",
    "for materia in [\"P_x\", \"P_y\", \"P_z\"]:\n",
    "    data_serie = (df_long[df_long.series == materia]\n",
    "                  .sort_values(\"time_idx\")\n",
    "                  .copy())\n",
    "\n",
    "    # sanity: suficientes puntos\n",
    "    assert len(data_serie) >= max_encoder_length + max_prediction_length, \\\n",
    "        f\"{materia}: pocos datos para encoder({max_encoder_length}) + pred({max_prediction_length})\"\n",
    "\n",
    "    # corte temporal recomendado por PF: último índice menos el horizonte\n",
    "    validation_span = 30  # meses para ver en validación\n",
    "    training_cutoff = data_serie[\"time_idx\"].max() - validation_span\n",
    "\n",
    "    # DATASET de entrenamiento: filtra el DF ANTES de crear el dataset\n",
    "    train_dataset = TimeSeriesDataSet(\n",
    "        data_serie[data_serie[\"time_idx\"] <= training_cutoff],\n",
    "        time_idx=\"time_idx\",\n",
    "        target=\"precio\",\n",
    "        group_ids=[\"series\"],                         # un grupo (= una serie)\n",
    "        min_encoder_length=max_encoder_length,\n",
    "        max_encoder_length=max_encoder_length,\n",
    "        max_prediction_length=max_prediction_length,\n",
    "        time_varying_unknown_reals=[\"precio\"],       # solo el target como input\n",
    "        target_normalizer=TorchNormalizer(method=\"standard\"),\n",
    "        add_relative_time_idx=False,\n",
    "        add_target_scales=False,\n",
    "        add_encoder_length=False,\n",
    "        allow_missing_timesteps=True,                # por si hay huecos\n",
    "    )\n",
    "\n",
    "    # DATASET de validación: se crea \"desde\" train para mantener encoders/escala\n",
    "    valid_dataset = TimeSeriesDataSet.from_dataset(\n",
    "        train_dataset,\n",
    "        data_serie,                                  # todo el DF\n",
    "        stop_randomization=True,\n",
    "        min_prediction_idx=training_cutoff + 1       # arranca justo después del cutoff\n",
    "    )\n",
    "\n",
    "    datasets[materia] = (train_dataset, valid_dataset)\n"
   ]
  },
  {
   "cell_type": "markdown",
   "id": "9d9b0a33",
   "metadata": {},
   "source": [
    "Ahora que tenemos los datos de entrenamiento y validacion  vamos a entrenar el modelo"
   ]
  },
  {
   "cell_type": "code",
   "execution_count": 32,
   "id": "fa6e5647",
   "metadata": {},
   "outputs": [],
   "source": [
    "# por si acaso: sin NaNs\n",
    "data_serie = data_serie.dropna(subset=[\"precio\"]).copy()\n",
    "\n",
    "# asegúrate de tener suficientes puntos por serie\n",
    "assert len(data_serie) >= max_encoder_length + max_prediction_length\n"
   ]
  },
  {
   "cell_type": "code",
   "execution_count": 33,
   "id": "5d3ef8bb",
   "metadata": {},
   "outputs": [],
   "source": [
    "dataloaders = {}\n",
    "for materia, (train_dataset, valid_dataset) in datasets.items():\n",
    "    # Sanity: que realmente haya ejemplos\n",
    "    assert len(train_dataset) > 0, f\"{materia}: train_dataset vacío\"\n",
    "    assert len(valid_dataset) > 0, f\"{materia}: valid_dataset vacío\"\n",
    "\n",
    "    train_loader = train_dataset.to_dataloader(\n",
    "        train=True, batch_size=64, num_workers=0\n",
    "    )\n",
    "    val_loader = valid_dataset.to_dataloader(\n",
    "        train=False, batch_size=64, num_workers=0\n",
    "    )\n",
    "    dataloaders[materia] = (train_loader, val_loader)\n"
   ]
  },
  {
   "cell_type": "markdown",
   "id": "cca3a0aa",
   "metadata": {},
   "source": [
    "ahora se entrena el modelo"
   ]
  },
  {
   "cell_type": "code",
   "execution_count": 34,
   "id": "bb137d44",
   "metadata": {},
   "outputs": [
    {
     "name": "stderr",
     "output_type": "stream",
     "text": [
      "Seed set to 42\n",
      "c:\\Users\\pinto\\OneDrive\\Documentos\\DK\\Prueba Técnica Cientifico de Datos\\Prueba1\\.venv\\Lib\\site-packages\\lightning\\pytorch\\utilities\\parsing.py:210: Attribute 'loss' is an instance of `nn.Module` and is already saved during checkpointing. It is recommended to ignore them using `self.save_hyperparameters(ignore=['loss'])`.\n",
      "c:\\Users\\pinto\\OneDrive\\Documentos\\DK\\Prueba Técnica Cientifico de Datos\\Prueba1\\.venv\\Lib\\site-packages\\lightning\\pytorch\\utilities\\parsing.py:210: Attribute 'logging_metrics' is an instance of `nn.Module` and is already saved during checkpointing. It is recommended to ignore them using `self.save_hyperparameters(ignore=['logging_metrics'])`.\n",
      "💡 Tip: For seamless cloud uploads and versioning, try installing [litmodels](https://pypi.org/project/litmodels/) to enable LitModelCheckpoint, which syncs automatically with the Lightning model registry.\n",
      "GPU available: False, used: False\n",
      "TPU available: False, using: 0 TPU cores\n",
      "HPU available: False, using: 0 HPUs\n",
      "c:\\Users\\pinto\\OneDrive\\Documentos\\DK\\Prueba Técnica Cientifico de Datos\\Prueba1\\.venv\\Lib\\site-packages\\lightning\\pytorch\\trainer\\connectors\\logger_connector\\logger_connector.py:76: Starting from v1.9.0, `tensorboardX` has been removed as a dependency of the `lightning.pytorch` package, due to potential conflicts with other packages in the ML ecosystem. For this reason, `logger=True` will use `CSVLogger` as the default logger, unless the `tensorboard` or `tensorboardX` packages are found. Please `pip install lightning[extra]` or one of them to enable TensorBoard support by default\n",
      "\n",
      "  | Name            | Type       | Params | Mode \n",
      "-------------------------------------------------------\n",
      "0 | loss            | MASE       | 0      | train\n",
      "1 | logging_metrics | ModuleList | 0      | train\n",
      "2 | net_blocks      | ModuleList | 833 K  | train\n",
      "-------------------------------------------------------\n",
      "833 K     Trainable params\n",
      "0         Non-trainable params\n",
      "833 K     Total params\n",
      "3.333     Total estimated model params size (MB)\n",
      "86        Modules in train mode\n",
      "0         Modules in eval mode\n"
     ]
    },
    {
     "data": {
      "application/vnd.jupyter.widget-view+json": {
       "model_id": "36f5950f4f70412e8f5d2171d6ab4e20",
       "version_major": 2,
       "version_minor": 0
      },
      "text/plain": [
       "Sanity Checking: |          | 0/? [00:00<?, ?it/s]"
      ]
     },
     "metadata": {},
     "output_type": "display_data"
    },
    {
     "name": "stderr",
     "output_type": "stream",
     "text": [
      "c:\\Users\\pinto\\OneDrive\\Documentos\\DK\\Prueba Técnica Cientifico de Datos\\Prueba1\\.venv\\Lib\\site-packages\\lightning\\pytorch\\trainer\\connectors\\data_connector.py:433: The 'val_dataloader' does not have many workers which may be a bottleneck. Consider increasing the value of the `num_workers` argument` to `num_workers=19` in the `DataLoader` to improve performance.\n",
      "c:\\Users\\pinto\\OneDrive\\Documentos\\DK\\Prueba Técnica Cientifico de Datos\\Prueba1\\.venv\\Lib\\site-packages\\lightning\\pytorch\\trainer\\connectors\\data_connector.py:433: The 'train_dataloader' does not have many workers which may be a bottleneck. Consider increasing the value of the `num_workers` argument` to `num_workers=19` in the `DataLoader` to improve performance.\n",
      "c:\\Users\\pinto\\OneDrive\\Documentos\\DK\\Prueba Técnica Cientifico de Datos\\Prueba1\\.venv\\Lib\\site-packages\\lightning\\pytorch\\loops\\fit_loop.py:310: The number of training batches (2) is smaller than the logging interval Trainer(log_every_n_steps=50). Set a lower value for log_every_n_steps if you want to see logs for the training epoch.\n"
     ]
    },
    {
     "data": {
      "application/vnd.jupyter.widget-view+json": {
       "model_id": "fa66591dab1a45ae981c59c944380203",
       "version_major": 2,
       "version_minor": 0
      },
      "text/plain": [
       "Training: |          | 0/? [00:00<?, ?it/s]"
      ]
     },
     "metadata": {},
     "output_type": "display_data"
    },
    {
     "data": {
      "application/vnd.jupyter.widget-view+json": {
       "model_id": "0daea4bc7f6541bf86193c4d7abb292d",
       "version_major": 2,
       "version_minor": 0
      },
      "text/plain": [
       "Validation: |          | 0/? [00:00<?, ?it/s]"
      ]
     },
     "metadata": {},
     "output_type": "display_data"
    },
    {
     "data": {
      "application/vnd.jupyter.widget-view+json": {
       "model_id": "0d6f6f9d5af84b459f7b5997c987a0f4",
       "version_major": 2,
       "version_minor": 0
      },
      "text/plain": [
       "Validation: |          | 0/? [00:00<?, ?it/s]"
      ]
     },
     "metadata": {},
     "output_type": "display_data"
    },
    {
     "data": {
      "application/vnd.jupyter.widget-view+json": {
       "model_id": "faf8202cf2c1466bbd0e4c8cae00a4b5",
       "version_major": 2,
       "version_minor": 0
      },
      "text/plain": [
       "Validation: |          | 0/? [00:00<?, ?it/s]"
      ]
     },
     "metadata": {},
     "output_type": "display_data"
    },
    {
     "data": {
      "application/vnd.jupyter.widget-view+json": {
       "model_id": "18120a202e644f32bac4a6110477ae0c",
       "version_major": 2,
       "version_minor": 0
      },
      "text/plain": [
       "Validation: |          | 0/? [00:00<?, ?it/s]"
      ]
     },
     "metadata": {},
     "output_type": "display_data"
    },
    {
     "data": {
      "application/vnd.jupyter.widget-view+json": {
       "model_id": "b5fe0c41d4704d4083b8501640ec0170",
       "version_major": 2,
       "version_minor": 0
      },
      "text/plain": [
       "Validation: |          | 0/? [00:00<?, ?it/s]"
      ]
     },
     "metadata": {},
     "output_type": "display_data"
    },
    {
     "data": {
      "application/vnd.jupyter.widget-view+json": {
       "model_id": "158f9bfd1ce343e881965e4cfc456189",
       "version_major": 2,
       "version_minor": 0
      },
      "text/plain": [
       "Validation: |          | 0/? [00:00<?, ?it/s]"
      ]
     },
     "metadata": {},
     "output_type": "display_data"
    },
    {
     "data": {
      "application/vnd.jupyter.widget-view+json": {
       "model_id": "ecbd71f2933b45c59df0c2c7134e2da9",
       "version_major": 2,
       "version_minor": 0
      },
      "text/plain": [
       "Validation: |          | 0/? [00:00<?, ?it/s]"
      ]
     },
     "metadata": {},
     "output_type": "display_data"
    },
    {
     "data": {
      "application/vnd.jupyter.widget-view+json": {
       "model_id": "2757a8f6e819446da02e6b8e573f511a",
       "version_major": 2,
       "version_minor": 0
      },
      "text/plain": [
       "Validation: |          | 0/? [00:00<?, ?it/s]"
      ]
     },
     "metadata": {},
     "output_type": "display_data"
    },
    {
     "data": {
      "application/vnd.jupyter.widget-view+json": {
       "model_id": "74068eae37cc4f2a87f0d27b3b5f6a28",
       "version_major": 2,
       "version_minor": 0
      },
      "text/plain": [
       "Validation: |          | 0/? [00:00<?, ?it/s]"
      ]
     },
     "metadata": {},
     "output_type": "display_data"
    },
    {
     "data": {
      "application/vnd.jupyter.widget-view+json": {
       "model_id": "bb5da514a0374066b5172dbbc952ca9e",
       "version_major": 2,
       "version_minor": 0
      },
      "text/plain": [
       "Validation: |          | 0/? [00:00<?, ?it/s]"
      ]
     },
     "metadata": {},
     "output_type": "display_data"
    },
    {
     "data": {
      "application/vnd.jupyter.widget-view+json": {
       "model_id": "75a45163ad7d408faf3c0df97cea5518",
       "version_major": 2,
       "version_minor": 0
      },
      "text/plain": [
       "Validation: |          | 0/? [00:00<?, ?it/s]"
      ]
     },
     "metadata": {},
     "output_type": "display_data"
    },
    {
     "data": {
      "application/vnd.jupyter.widget-view+json": {
       "model_id": "86738fd1f5234ea5adf2d6614670cd20",
       "version_major": 2,
       "version_minor": 0
      },
      "text/plain": [
       "Validation: |          | 0/? [00:00<?, ?it/s]"
      ]
     },
     "metadata": {},
     "output_type": "display_data"
    },
    {
     "data": {
      "application/vnd.jupyter.widget-view+json": {
       "model_id": "24b6ea1c175541b99bcaf30fc83b555d",
       "version_major": 2,
       "version_minor": 0
      },
      "text/plain": [
       "Validation: |          | 0/? [00:00<?, ?it/s]"
      ]
     },
     "metadata": {},
     "output_type": "display_data"
    },
    {
     "data": {
      "application/vnd.jupyter.widget-view+json": {
       "model_id": "7f353510bd4843f98d329e2368f22719",
       "version_major": 2,
       "version_minor": 0
      },
      "text/plain": [
       "Validation: |          | 0/? [00:00<?, ?it/s]"
      ]
     },
     "metadata": {},
     "output_type": "display_data"
    },
    {
     "data": {
      "application/vnd.jupyter.widget-view+json": {
       "model_id": "a3048a4b8cd34cfab37aa05a57c2959a",
       "version_major": 2,
       "version_minor": 0
      },
      "text/plain": [
       "Validation: |          | 0/? [00:00<?, ?it/s]"
      ]
     },
     "metadata": {},
     "output_type": "display_data"
    },
    {
     "data": {
      "application/vnd.jupyter.widget-view+json": {
       "model_id": "063212a6099242048a87fedba08b7733",
       "version_major": 2,
       "version_minor": 0
      },
      "text/plain": [
       "Validation: |          | 0/? [00:00<?, ?it/s]"
      ]
     },
     "metadata": {},
     "output_type": "display_data"
    },
    {
     "data": {
      "application/vnd.jupyter.widget-view+json": {
       "model_id": "e77347e8d9c842318b67f07f14615887",
       "version_major": 2,
       "version_minor": 0
      },
      "text/plain": [
       "Validation: |          | 0/? [00:00<?, ?it/s]"
      ]
     },
     "metadata": {},
     "output_type": "display_data"
    },
    {
     "data": {
      "application/vnd.jupyter.widget-view+json": {
       "model_id": "848440c95eb14be2b8542c81d928e9dd",
       "version_major": 2,
       "version_minor": 0
      },
      "text/plain": [
       "Validation: |          | 0/? [00:00<?, ?it/s]"
      ]
     },
     "metadata": {},
     "output_type": "display_data"
    },
    {
     "data": {
      "application/vnd.jupyter.widget-view+json": {
       "model_id": "b4f652f04f754c108840a3d0c5560cab",
       "version_major": 2,
       "version_minor": 0
      },
      "text/plain": [
       "Validation: |          | 0/? [00:00<?, ?it/s]"
      ]
     },
     "metadata": {},
     "output_type": "display_data"
    },
    {
     "data": {
      "application/vnd.jupyter.widget-view+json": {
       "model_id": "6e33eac6d2004bab835982e989e3a27c",
       "version_major": 2,
       "version_minor": 0
      },
      "text/plain": [
       "Validation: |          | 0/? [00:00<?, ?it/s]"
      ]
     },
     "metadata": {},
     "output_type": "display_data"
    },
    {
     "data": {
      "application/vnd.jupyter.widget-view+json": {
       "model_id": "95e7836a85324fa1bad002f5f47e10a2",
       "version_major": 2,
       "version_minor": 0
      },
      "text/plain": [
       "Validation: |          | 0/? [00:00<?, ?it/s]"
      ]
     },
     "metadata": {},
     "output_type": "display_data"
    },
    {
     "data": {
      "application/vnd.jupyter.widget-view+json": {
       "model_id": "24ffffb3cd174c14b1476cf6b4f96fbd",
       "version_major": 2,
       "version_minor": 0
      },
      "text/plain": [
       "Validation: |          | 0/? [00:00<?, ?it/s]"
      ]
     },
     "metadata": {},
     "output_type": "display_data"
    },
    {
     "data": {
      "application/vnd.jupyter.widget-view+json": {
       "model_id": "b76d28cf98434b25a6cc6d104aa65692",
       "version_major": 2,
       "version_minor": 0
      },
      "text/plain": [
       "Validation: |          | 0/? [00:00<?, ?it/s]"
      ]
     },
     "metadata": {},
     "output_type": "display_data"
    },
    {
     "data": {
      "application/vnd.jupyter.widget-view+json": {
       "model_id": "fa9259244b15418caaabd200e2dd521d",
       "version_major": 2,
       "version_minor": 0
      },
      "text/plain": [
       "Validation: |          | 0/? [00:00<?, ?it/s]"
      ]
     },
     "metadata": {},
     "output_type": "display_data"
    },
    {
     "data": {
      "application/vnd.jupyter.widget-view+json": {
       "model_id": "9310f1fc86424db4b87d9d38c4b61611",
       "version_major": 2,
       "version_minor": 0
      },
      "text/plain": [
       "Validation: |          | 0/? [00:00<?, ?it/s]"
      ]
     },
     "metadata": {},
     "output_type": "display_data"
    },
    {
     "data": {
      "application/vnd.jupyter.widget-view+json": {
       "model_id": "4d4adfd94cda411abca7181e8dbc5423",
       "version_major": 2,
       "version_minor": 0
      },
      "text/plain": [
       "Validation: |          | 0/? [00:00<?, ?it/s]"
      ]
     },
     "metadata": {},
     "output_type": "display_data"
    },
    {
     "data": {
      "application/vnd.jupyter.widget-view+json": {
       "model_id": "49a5430c1ddb47debedfe4ed1f50bba8",
       "version_major": 2,
       "version_minor": 0
      },
      "text/plain": [
       "Validation: |          | 0/? [00:00<?, ?it/s]"
      ]
     },
     "metadata": {},
     "output_type": "display_data"
    },
    {
     "data": {
      "application/vnd.jupyter.widget-view+json": {
       "model_id": "757a9d93b0fc4dfb9a9a180b7522bb52",
       "version_major": 2,
       "version_minor": 0
      },
      "text/plain": [
       "Validation: |          | 0/? [00:00<?, ?it/s]"
      ]
     },
     "metadata": {},
     "output_type": "display_data"
    },
    {
     "data": {
      "application/vnd.jupyter.widget-view+json": {
       "model_id": "3d58386f95d94f4cb1c96551340022e3",
       "version_major": 2,
       "version_minor": 0
      },
      "text/plain": [
       "Validation: |          | 0/? [00:00<?, ?it/s]"
      ]
     },
     "metadata": {},
     "output_type": "display_data"
    },
    {
     "data": {
      "application/vnd.jupyter.widget-view+json": {
       "model_id": "4efe764bdef44b4991e38fc08e2a9d91",
       "version_major": 2,
       "version_minor": 0
      },
      "text/plain": [
       "Validation: |          | 0/? [00:00<?, ?it/s]"
      ]
     },
     "metadata": {},
     "output_type": "display_data"
    },
    {
     "data": {
      "application/vnd.jupyter.widget-view+json": {
       "model_id": "3f82f913f7e7445391cd9188c82ee376",
       "version_major": 2,
       "version_minor": 0
      },
      "text/plain": [
       "Validation: |          | 0/? [00:00<?, ?it/s]"
      ]
     },
     "metadata": {},
     "output_type": "display_data"
    },
    {
     "data": {
      "application/vnd.jupyter.widget-view+json": {
       "model_id": "26e8be33207f4eb98bcf11716f25853e",
       "version_major": 2,
       "version_minor": 0
      },
      "text/plain": [
       "Validation: |          | 0/? [00:00<?, ?it/s]"
      ]
     },
     "metadata": {},
     "output_type": "display_data"
    },
    {
     "data": {
      "application/vnd.jupyter.widget-view+json": {
       "model_id": "f5824cf3107c41f788f6ad853334efaa",
       "version_major": 2,
       "version_minor": 0
      },
      "text/plain": [
       "Validation: |          | 0/? [00:00<?, ?it/s]"
      ]
     },
     "metadata": {},
     "output_type": "display_data"
    },
    {
     "data": {
      "application/vnd.jupyter.widget-view+json": {
       "model_id": "816e7e54870b40938db4c731ef13a59a",
       "version_major": 2,
       "version_minor": 0
      },
      "text/plain": [
       "Validation: |          | 0/? [00:00<?, ?it/s]"
      ]
     },
     "metadata": {},
     "output_type": "display_data"
    },
    {
     "data": {
      "application/vnd.jupyter.widget-view+json": {
       "model_id": "5434d82c781a462d8b939508b3d14c99",
       "version_major": 2,
       "version_minor": 0
      },
      "text/plain": [
       "Validation: |          | 0/? [00:00<?, ?it/s]"
      ]
     },
     "metadata": {},
     "output_type": "display_data"
    },
    {
     "data": {
      "application/vnd.jupyter.widget-view+json": {
       "model_id": "8c07081cce2145739202ccd3e509299c",
       "version_major": 2,
       "version_minor": 0
      },
      "text/plain": [
       "Validation: |          | 0/? [00:00<?, ?it/s]"
      ]
     },
     "metadata": {},
     "output_type": "display_data"
    },
    {
     "data": {
      "application/vnd.jupyter.widget-view+json": {
       "model_id": "406c692e4d1a442d98d961560b0a0628",
       "version_major": 2,
       "version_minor": 0
      },
      "text/plain": [
       "Validation: |          | 0/? [00:00<?, ?it/s]"
      ]
     },
     "metadata": {},
     "output_type": "display_data"
    },
    {
     "data": {
      "application/vnd.jupyter.widget-view+json": {
       "model_id": "1899b2e32d734d1e956742833e0be46a",
       "version_major": 2,
       "version_minor": 0
      },
      "text/plain": [
       "Validation: |          | 0/? [00:00<?, ?it/s]"
      ]
     },
     "metadata": {},
     "output_type": "display_data"
    },
    {
     "data": {
      "application/vnd.jupyter.widget-view+json": {
       "model_id": "9357083cdb7f46ff96c8f7649ade08df",
       "version_major": 2,
       "version_minor": 0
      },
      "text/plain": [
       "Validation: |          | 0/? [00:00<?, ?it/s]"
      ]
     },
     "metadata": {},
     "output_type": "display_data"
    },
    {
     "data": {
      "application/vnd.jupyter.widget-view+json": {
       "model_id": "f8a9d084e3f2492d943ed952ace3907d",
       "version_major": 2,
       "version_minor": 0
      },
      "text/plain": [
       "Validation: |          | 0/? [00:00<?, ?it/s]"
      ]
     },
     "metadata": {},
     "output_type": "display_data"
    },
    {
     "data": {
      "application/vnd.jupyter.widget-view+json": {
       "model_id": "b2fe90a2d2214783938f2d824a03828b",
       "version_major": 2,
       "version_minor": 0
      },
      "text/plain": [
       "Validation: |          | 0/? [00:00<?, ?it/s]"
      ]
     },
     "metadata": {},
     "output_type": "display_data"
    },
    {
     "data": {
      "application/vnd.jupyter.widget-view+json": {
       "model_id": "073d968924354e9ca3d2ec3df7acc912",
       "version_major": 2,
       "version_minor": 0
      },
      "text/plain": [
       "Validation: |          | 0/? [00:00<?, ?it/s]"
      ]
     },
     "metadata": {},
     "output_type": "display_data"
    },
    {
     "data": {
      "application/vnd.jupyter.widget-view+json": {
       "model_id": "47446116a3124d47958fc669a329532e",
       "version_major": 2,
       "version_minor": 0
      },
      "text/plain": [
       "Validation: |          | 0/? [00:00<?, ?it/s]"
      ]
     },
     "metadata": {},
     "output_type": "display_data"
    },
    {
     "data": {
      "application/vnd.jupyter.widget-view+json": {
       "model_id": "22b34c1328f14ef9ae158a92cb3a71da",
       "version_major": 2,
       "version_minor": 0
      },
      "text/plain": [
       "Validation: |          | 0/? [00:00<?, ?it/s]"
      ]
     },
     "metadata": {},
     "output_type": "display_data"
    },
    {
     "data": {
      "application/vnd.jupyter.widget-view+json": {
       "model_id": "ef3a41215e5b48398f44b9a25a177b23",
       "version_major": 2,
       "version_minor": 0
      },
      "text/plain": [
       "Validation: |          | 0/? [00:00<?, ?it/s]"
      ]
     },
     "metadata": {},
     "output_type": "display_data"
    },
    {
     "data": {
      "application/vnd.jupyter.widget-view+json": {
       "model_id": "b3fee31ea6d0494590770ec7e83ae535",
       "version_major": 2,
       "version_minor": 0
      },
      "text/plain": [
       "Validation: |          | 0/? [00:00<?, ?it/s]"
      ]
     },
     "metadata": {},
     "output_type": "display_data"
    },
    {
     "data": {
      "application/vnd.jupyter.widget-view+json": {
       "model_id": "e74fe9450a8a4c23baafa80a3d9a1c3d",
       "version_major": 2,
       "version_minor": 0
      },
      "text/plain": [
       "Validation: |          | 0/? [00:00<?, ?it/s]"
      ]
     },
     "metadata": {},
     "output_type": "display_data"
    },
    {
     "data": {
      "application/vnd.jupyter.widget-view+json": {
       "model_id": "f8102eaf1c1140b6af3be094bf9a4af6",
       "version_major": 2,
       "version_minor": 0
      },
      "text/plain": [
       "Validation: |          | 0/? [00:00<?, ?it/s]"
      ]
     },
     "metadata": {},
     "output_type": "display_data"
    },
    {
     "data": {
      "application/vnd.jupyter.widget-view+json": {
       "model_id": "2cac89a97bb64212beda5a5272efcf01",
       "version_major": 2,
       "version_minor": 0
      },
      "text/plain": [
       "Validation: |          | 0/? [00:00<?, ?it/s]"
      ]
     },
     "metadata": {},
     "output_type": "display_data"
    },
    {
     "data": {
      "application/vnd.jupyter.widget-view+json": {
       "model_id": "bb9e0a43cd1b43c7bf664ac720120f9b",
       "version_major": 2,
       "version_minor": 0
      },
      "text/plain": [
       "Validation: |          | 0/? [00:00<?, ?it/s]"
      ]
     },
     "metadata": {},
     "output_type": "display_data"
    },
    {
     "name": "stderr",
     "output_type": "stream",
     "text": [
      "`Trainer.fit` stopped: `max_epochs=50` reached.\n",
      "💡 Tip: For seamless cloud uploads and versioning, try installing [litmodels](https://pypi.org/project/litmodels/) to enable LitModelCheckpoint, which syncs automatically with the Lightning model registry.\n",
      "GPU available: False, used: False\n",
      "TPU available: False, using: 0 TPU cores\n",
      "HPU available: False, using: 0 HPUs\n",
      "\n",
      "  | Name            | Type       | Params | Mode \n",
      "-------------------------------------------------------\n",
      "0 | loss            | MASE       | 0      | train\n",
      "1 | logging_metrics | ModuleList | 0      | train\n",
      "2 | net_blocks      | ModuleList | 833 K  | train\n",
      "-------------------------------------------------------\n",
      "833 K     Trainable params\n",
      "0         Non-trainable params\n",
      "833 K     Total params\n",
      "3.333     Total estimated model params size (MB)\n",
      "86        Modules in train mode\n",
      "0         Modules in eval mode\n"
     ]
    },
    {
     "data": {
      "application/vnd.jupyter.widget-view+json": {
       "model_id": "814327a8f4d84a7ab526b49500947b4c",
       "version_major": 2,
       "version_minor": 0
      },
      "text/plain": [
       "Sanity Checking: |          | 0/? [00:00<?, ?it/s]"
      ]
     },
     "metadata": {},
     "output_type": "display_data"
    },
    {
     "data": {
      "application/vnd.jupyter.widget-view+json": {
       "model_id": "d0667738a0774e3a8582b2c45e668a6b",
       "version_major": 2,
       "version_minor": 0
      },
      "text/plain": [
       "Training: |          | 0/? [00:00<?, ?it/s]"
      ]
     },
     "metadata": {},
     "output_type": "display_data"
    },
    {
     "data": {
      "application/vnd.jupyter.widget-view+json": {
       "model_id": "70f46bbd21fc48b5a4367fab460a505f",
       "version_major": 2,
       "version_minor": 0
      },
      "text/plain": [
       "Validation: |          | 0/? [00:00<?, ?it/s]"
      ]
     },
     "metadata": {},
     "output_type": "display_data"
    },
    {
     "data": {
      "application/vnd.jupyter.widget-view+json": {
       "model_id": "fadf7ad825124eae95e4d4db560a78a6",
       "version_major": 2,
       "version_minor": 0
      },
      "text/plain": [
       "Validation: |          | 0/? [00:00<?, ?it/s]"
      ]
     },
     "metadata": {},
     "output_type": "display_data"
    },
    {
     "data": {
      "application/vnd.jupyter.widget-view+json": {
       "model_id": "865755efd63646918ada2c125e5ab300",
       "version_major": 2,
       "version_minor": 0
      },
      "text/plain": [
       "Validation: |          | 0/? [00:00<?, ?it/s]"
      ]
     },
     "metadata": {},
     "output_type": "display_data"
    },
    {
     "data": {
      "application/vnd.jupyter.widget-view+json": {
       "model_id": "c300db3a496e41e8a4c6fd830b17d281",
       "version_major": 2,
       "version_minor": 0
      },
      "text/plain": [
       "Validation: |          | 0/? [00:00<?, ?it/s]"
      ]
     },
     "metadata": {},
     "output_type": "display_data"
    },
    {
     "data": {
      "application/vnd.jupyter.widget-view+json": {
       "model_id": "3cc30f6062d544508c2b7fb49013e6c7",
       "version_major": 2,
       "version_minor": 0
      },
      "text/plain": [
       "Validation: |          | 0/? [00:00<?, ?it/s]"
      ]
     },
     "metadata": {},
     "output_type": "display_data"
    },
    {
     "data": {
      "application/vnd.jupyter.widget-view+json": {
       "model_id": "2880fa3cb78743cfb57c78b57fc6b3ac",
       "version_major": 2,
       "version_minor": 0
      },
      "text/plain": [
       "Validation: |          | 0/? [00:00<?, ?it/s]"
      ]
     },
     "metadata": {},
     "output_type": "display_data"
    },
    {
     "data": {
      "application/vnd.jupyter.widget-view+json": {
       "model_id": "e1d40860619e4872b714f4ea6291d5de",
       "version_major": 2,
       "version_minor": 0
      },
      "text/plain": [
       "Validation: |          | 0/? [00:00<?, ?it/s]"
      ]
     },
     "metadata": {},
     "output_type": "display_data"
    },
    {
     "data": {
      "application/vnd.jupyter.widget-view+json": {
       "model_id": "3539beb1f951482b927e3f47104c8122",
       "version_major": 2,
       "version_minor": 0
      },
      "text/plain": [
       "Validation: |          | 0/? [00:00<?, ?it/s]"
      ]
     },
     "metadata": {},
     "output_type": "display_data"
    },
    {
     "data": {
      "application/vnd.jupyter.widget-view+json": {
       "model_id": "23074b56852b47eab7d614359da7dd13",
       "version_major": 2,
       "version_minor": 0
      },
      "text/plain": [
       "Validation: |          | 0/? [00:00<?, ?it/s]"
      ]
     },
     "metadata": {},
     "output_type": "display_data"
    },
    {
     "data": {
      "application/vnd.jupyter.widget-view+json": {
       "model_id": "d90151b0adff48a599caa018590bc6d0",
       "version_major": 2,
       "version_minor": 0
      },
      "text/plain": [
       "Validation: |          | 0/? [00:00<?, ?it/s]"
      ]
     },
     "metadata": {},
     "output_type": "display_data"
    },
    {
     "data": {
      "application/vnd.jupyter.widget-view+json": {
       "model_id": "21d80d1dd0214e59a310bd113de06e4a",
       "version_major": 2,
       "version_minor": 0
      },
      "text/plain": [
       "Validation: |          | 0/? [00:00<?, ?it/s]"
      ]
     },
     "metadata": {},
     "output_type": "display_data"
    },
    {
     "data": {
      "application/vnd.jupyter.widget-view+json": {
       "model_id": "ac2532911f5f45a2bbdf0573bbcaea80",
       "version_major": 2,
       "version_minor": 0
      },
      "text/plain": [
       "Validation: |          | 0/? [00:00<?, ?it/s]"
      ]
     },
     "metadata": {},
     "output_type": "display_data"
    },
    {
     "data": {
      "application/vnd.jupyter.widget-view+json": {
       "model_id": "60a2d43679734545996a08e3b886a68b",
       "version_major": 2,
       "version_minor": 0
      },
      "text/plain": [
       "Validation: |          | 0/? [00:00<?, ?it/s]"
      ]
     },
     "metadata": {},
     "output_type": "display_data"
    },
    {
     "data": {
      "application/vnd.jupyter.widget-view+json": {
       "model_id": "bae8cfd626db4dc7ba958344e4cb95ee",
       "version_major": 2,
       "version_minor": 0
      },
      "text/plain": [
       "Validation: |          | 0/? [00:00<?, ?it/s]"
      ]
     },
     "metadata": {},
     "output_type": "display_data"
    },
    {
     "data": {
      "application/vnd.jupyter.widget-view+json": {
       "model_id": "10f79c9771874f56aa67662ac22ee922",
       "version_major": 2,
       "version_minor": 0
      },
      "text/plain": [
       "Validation: |          | 0/? [00:00<?, ?it/s]"
      ]
     },
     "metadata": {},
     "output_type": "display_data"
    },
    {
     "data": {
      "application/vnd.jupyter.widget-view+json": {
       "model_id": "0b40be96dfee4544bd58d5e3dc94b008",
       "version_major": 2,
       "version_minor": 0
      },
      "text/plain": [
       "Validation: |          | 0/? [00:00<?, ?it/s]"
      ]
     },
     "metadata": {},
     "output_type": "display_data"
    },
    {
     "data": {
      "application/vnd.jupyter.widget-view+json": {
       "model_id": "3c4ba30eebc64634951ad4245de2a929",
       "version_major": 2,
       "version_minor": 0
      },
      "text/plain": [
       "Validation: |          | 0/? [00:00<?, ?it/s]"
      ]
     },
     "metadata": {},
     "output_type": "display_data"
    },
    {
     "data": {
      "application/vnd.jupyter.widget-view+json": {
       "model_id": "6b494c5150de44c9a8ca0e57e22b480a",
       "version_major": 2,
       "version_minor": 0
      },
      "text/plain": [
       "Validation: |          | 0/? [00:00<?, ?it/s]"
      ]
     },
     "metadata": {},
     "output_type": "display_data"
    },
    {
     "data": {
      "application/vnd.jupyter.widget-view+json": {
       "model_id": "29761a6db6ec4dc59d9330f2752fda24",
       "version_major": 2,
       "version_minor": 0
      },
      "text/plain": [
       "Validation: |          | 0/? [00:00<?, ?it/s]"
      ]
     },
     "metadata": {},
     "output_type": "display_data"
    },
    {
     "data": {
      "application/vnd.jupyter.widget-view+json": {
       "model_id": "0b86ce3ac6f446098c44aa9c772aa29c",
       "version_major": 2,
       "version_minor": 0
      },
      "text/plain": [
       "Validation: |          | 0/? [00:00<?, ?it/s]"
      ]
     },
     "metadata": {},
     "output_type": "display_data"
    },
    {
     "data": {
      "application/vnd.jupyter.widget-view+json": {
       "model_id": "07f439504f8d4ccda694b2eccdb4cf35",
       "version_major": 2,
       "version_minor": 0
      },
      "text/plain": [
       "Validation: |          | 0/? [00:00<?, ?it/s]"
      ]
     },
     "metadata": {},
     "output_type": "display_data"
    },
    {
     "data": {
      "application/vnd.jupyter.widget-view+json": {
       "model_id": "e63bdaf7edf549c58ac67de795a16cd6",
       "version_major": 2,
       "version_minor": 0
      },
      "text/plain": [
       "Validation: |          | 0/? [00:00<?, ?it/s]"
      ]
     },
     "metadata": {},
     "output_type": "display_data"
    },
    {
     "data": {
      "application/vnd.jupyter.widget-view+json": {
       "model_id": "88ebb83b539a449a8c654aaab186fdc5",
       "version_major": 2,
       "version_minor": 0
      },
      "text/plain": [
       "Validation: |          | 0/? [00:00<?, ?it/s]"
      ]
     },
     "metadata": {},
     "output_type": "display_data"
    },
    {
     "data": {
      "application/vnd.jupyter.widget-view+json": {
       "model_id": "f889ae1d264f46e6a6e42701763547ff",
       "version_major": 2,
       "version_minor": 0
      },
      "text/plain": [
       "Validation: |          | 0/? [00:00<?, ?it/s]"
      ]
     },
     "metadata": {},
     "output_type": "display_data"
    },
    {
     "data": {
      "application/vnd.jupyter.widget-view+json": {
       "model_id": "3549590c68494f068171825838b18df2",
       "version_major": 2,
       "version_minor": 0
      },
      "text/plain": [
       "Validation: |          | 0/? [00:00<?, ?it/s]"
      ]
     },
     "metadata": {},
     "output_type": "display_data"
    },
    {
     "data": {
      "application/vnd.jupyter.widget-view+json": {
       "model_id": "95d54e81f938490b8bbbc4a762acd130",
       "version_major": 2,
       "version_minor": 0
      },
      "text/plain": [
       "Validation: |          | 0/? [00:00<?, ?it/s]"
      ]
     },
     "metadata": {},
     "output_type": "display_data"
    },
    {
     "data": {
      "application/vnd.jupyter.widget-view+json": {
       "model_id": "5bd68443cd0a41bea7baa1e76ddb5ba9",
       "version_major": 2,
       "version_minor": 0
      },
      "text/plain": [
       "Validation: |          | 0/? [00:00<?, ?it/s]"
      ]
     },
     "metadata": {},
     "output_type": "display_data"
    },
    {
     "data": {
      "application/vnd.jupyter.widget-view+json": {
       "model_id": "56b7dd3317d647458835772179df0492",
       "version_major": 2,
       "version_minor": 0
      },
      "text/plain": [
       "Validation: |          | 0/? [00:00<?, ?it/s]"
      ]
     },
     "metadata": {},
     "output_type": "display_data"
    },
    {
     "data": {
      "application/vnd.jupyter.widget-view+json": {
       "model_id": "d63a6fc49e8d4d0d92fbccde78d164da",
       "version_major": 2,
       "version_minor": 0
      },
      "text/plain": [
       "Validation: |          | 0/? [00:00<?, ?it/s]"
      ]
     },
     "metadata": {},
     "output_type": "display_data"
    },
    {
     "data": {
      "application/vnd.jupyter.widget-view+json": {
       "model_id": "df1992064fdb4d708cb815bd87bbb0fc",
       "version_major": 2,
       "version_minor": 0
      },
      "text/plain": [
       "Validation: |          | 0/? [00:00<?, ?it/s]"
      ]
     },
     "metadata": {},
     "output_type": "display_data"
    },
    {
     "data": {
      "application/vnd.jupyter.widget-view+json": {
       "model_id": "5db62fa58848453892f49ce59ce3a338",
       "version_major": 2,
       "version_minor": 0
      },
      "text/plain": [
       "Validation: |          | 0/? [00:00<?, ?it/s]"
      ]
     },
     "metadata": {},
     "output_type": "display_data"
    },
    {
     "data": {
      "application/vnd.jupyter.widget-view+json": {
       "model_id": "56a7bfb9e63346a784b41ab20521b7eb",
       "version_major": 2,
       "version_minor": 0
      },
      "text/plain": [
       "Validation: |          | 0/? [00:00<?, ?it/s]"
      ]
     },
     "metadata": {},
     "output_type": "display_data"
    },
    {
     "data": {
      "application/vnd.jupyter.widget-view+json": {
       "model_id": "ac6af3d85be84f388c2b3e4bf45d9dcb",
       "version_major": 2,
       "version_minor": 0
      },
      "text/plain": [
       "Validation: |          | 0/? [00:00<?, ?it/s]"
      ]
     },
     "metadata": {},
     "output_type": "display_data"
    },
    {
     "data": {
      "application/vnd.jupyter.widget-view+json": {
       "model_id": "1a58accf524b49a1b942bef01685aaaf",
       "version_major": 2,
       "version_minor": 0
      },
      "text/plain": [
       "Validation: |          | 0/? [00:00<?, ?it/s]"
      ]
     },
     "metadata": {},
     "output_type": "display_data"
    },
    {
     "data": {
      "application/vnd.jupyter.widget-view+json": {
       "model_id": "0f59b4a2bb464f25a4add650af815a77",
       "version_major": 2,
       "version_minor": 0
      },
      "text/plain": [
       "Validation: |          | 0/? [00:00<?, ?it/s]"
      ]
     },
     "metadata": {},
     "output_type": "display_data"
    },
    {
     "data": {
      "application/vnd.jupyter.widget-view+json": {
       "model_id": "0ddde6418cac4a36b2b5f3903028293b",
       "version_major": 2,
       "version_minor": 0
      },
      "text/plain": [
       "Validation: |          | 0/? [00:00<?, ?it/s]"
      ]
     },
     "metadata": {},
     "output_type": "display_data"
    },
    {
     "data": {
      "application/vnd.jupyter.widget-view+json": {
       "model_id": "cdc55f0a4d41463ba6cbfeb46649d017",
       "version_major": 2,
       "version_minor": 0
      },
      "text/plain": [
       "Validation: |          | 0/? [00:00<?, ?it/s]"
      ]
     },
     "metadata": {},
     "output_type": "display_data"
    },
    {
     "data": {
      "application/vnd.jupyter.widget-view+json": {
       "model_id": "43047f1e915e4419bfca15d3ff85cdb8",
       "version_major": 2,
       "version_minor": 0
      },
      "text/plain": [
       "Validation: |          | 0/? [00:00<?, ?it/s]"
      ]
     },
     "metadata": {},
     "output_type": "display_data"
    },
    {
     "data": {
      "application/vnd.jupyter.widget-view+json": {
       "model_id": "06425195140c4945afd511ea6efe9311",
       "version_major": 2,
       "version_minor": 0
      },
      "text/plain": [
       "Validation: |          | 0/? [00:00<?, ?it/s]"
      ]
     },
     "metadata": {},
     "output_type": "display_data"
    },
    {
     "data": {
      "application/vnd.jupyter.widget-view+json": {
       "model_id": "1f9dba3f4a604558b218a895190cb26e",
       "version_major": 2,
       "version_minor": 0
      },
      "text/plain": [
       "Validation: |          | 0/? [00:00<?, ?it/s]"
      ]
     },
     "metadata": {},
     "output_type": "display_data"
    },
    {
     "data": {
      "application/vnd.jupyter.widget-view+json": {
       "model_id": "3ae1591d8a7d4cd590caa4683537b83b",
       "version_major": 2,
       "version_minor": 0
      },
      "text/plain": [
       "Validation: |          | 0/? [00:00<?, ?it/s]"
      ]
     },
     "metadata": {},
     "output_type": "display_data"
    },
    {
     "data": {
      "application/vnd.jupyter.widget-view+json": {
       "model_id": "13e953bad96d4235a09114535e852884",
       "version_major": 2,
       "version_minor": 0
      },
      "text/plain": [
       "Validation: |          | 0/? [00:00<?, ?it/s]"
      ]
     },
     "metadata": {},
     "output_type": "display_data"
    },
    {
     "data": {
      "application/vnd.jupyter.widget-view+json": {
       "model_id": "e575dad5091e46e7b2732a8847fd5446",
       "version_major": 2,
       "version_minor": 0
      },
      "text/plain": [
       "Validation: |          | 0/? [00:00<?, ?it/s]"
      ]
     },
     "metadata": {},
     "output_type": "display_data"
    },
    {
     "data": {
      "application/vnd.jupyter.widget-view+json": {
       "model_id": "72b9a4ea2c684c1ea435ca5eb50f11b8",
       "version_major": 2,
       "version_minor": 0
      },
      "text/plain": [
       "Validation: |          | 0/? [00:00<?, ?it/s]"
      ]
     },
     "metadata": {},
     "output_type": "display_data"
    },
    {
     "data": {
      "application/vnd.jupyter.widget-view+json": {
       "model_id": "a4aa509cff77476a9ad2d0dfd41784e0",
       "version_major": 2,
       "version_minor": 0
      },
      "text/plain": [
       "Validation: |          | 0/? [00:00<?, ?it/s]"
      ]
     },
     "metadata": {},
     "output_type": "display_data"
    },
    {
     "data": {
      "application/vnd.jupyter.widget-view+json": {
       "model_id": "1aae2c7f34934edaa5d8bc8475d5b4d7",
       "version_major": 2,
       "version_minor": 0
      },
      "text/plain": [
       "Validation: |          | 0/? [00:00<?, ?it/s]"
      ]
     },
     "metadata": {},
     "output_type": "display_data"
    },
    {
     "data": {
      "application/vnd.jupyter.widget-view+json": {
       "model_id": "091f1afa35424029a62c334ef7971a3e",
       "version_major": 2,
       "version_minor": 0
      },
      "text/plain": [
       "Validation: |          | 0/? [00:00<?, ?it/s]"
      ]
     },
     "metadata": {},
     "output_type": "display_data"
    },
    {
     "data": {
      "application/vnd.jupyter.widget-view+json": {
       "model_id": "3a7ffd0977c34defb4f8a11ea1b1bc02",
       "version_major": 2,
       "version_minor": 0
      },
      "text/plain": [
       "Validation: |          | 0/? [00:00<?, ?it/s]"
      ]
     },
     "metadata": {},
     "output_type": "display_data"
    },
    {
     "data": {
      "application/vnd.jupyter.widget-view+json": {
       "model_id": "9f01fb0f080947ee925aa791f6fc3ae1",
       "version_major": 2,
       "version_minor": 0
      },
      "text/plain": [
       "Validation: |          | 0/? [00:00<?, ?it/s]"
      ]
     },
     "metadata": {},
     "output_type": "display_data"
    },
    {
     "data": {
      "application/vnd.jupyter.widget-view+json": {
       "model_id": "047572db33da46db83592a19d6f63e6d",
       "version_major": 2,
       "version_minor": 0
      },
      "text/plain": [
       "Validation: |          | 0/? [00:00<?, ?it/s]"
      ]
     },
     "metadata": {},
     "output_type": "display_data"
    },
    {
     "name": "stderr",
     "output_type": "stream",
     "text": [
      "`Trainer.fit` stopped: `max_epochs=50` reached.\n",
      "💡 Tip: For seamless cloud uploads and versioning, try installing [litmodels](https://pypi.org/project/litmodels/) to enable LitModelCheckpoint, which syncs automatically with the Lightning model registry.\n",
      "GPU available: False, used: False\n",
      "TPU available: False, using: 0 TPU cores\n",
      "HPU available: False, using: 0 HPUs\n",
      "\n",
      "  | Name            | Type       | Params | Mode \n",
      "-------------------------------------------------------\n",
      "0 | loss            | MASE       | 0      | train\n",
      "1 | logging_metrics | ModuleList | 0      | train\n",
      "2 | net_blocks      | ModuleList | 833 K  | train\n",
      "-------------------------------------------------------\n",
      "833 K     Trainable params\n",
      "0         Non-trainable params\n",
      "833 K     Total params\n",
      "3.333     Total estimated model params size (MB)\n",
      "86        Modules in train mode\n",
      "0         Modules in eval mode\n"
     ]
    },
    {
     "data": {
      "application/vnd.jupyter.widget-view+json": {
       "model_id": "479d8eba6a1a4959b6c45f61aef29c7d",
       "version_major": 2,
       "version_minor": 0
      },
      "text/plain": [
       "Sanity Checking: |          | 0/? [00:00<?, ?it/s]"
      ]
     },
     "metadata": {},
     "output_type": "display_data"
    },
    {
     "data": {
      "application/vnd.jupyter.widget-view+json": {
       "model_id": "12b03beb30124c9dbc10e1426e2cd9ae",
       "version_major": 2,
       "version_minor": 0
      },
      "text/plain": [
       "Training: |          | 0/? [00:00<?, ?it/s]"
      ]
     },
     "metadata": {},
     "output_type": "display_data"
    },
    {
     "data": {
      "application/vnd.jupyter.widget-view+json": {
       "model_id": "1cd775bf2f00448fa3a5fc0cb3e4fe0d",
       "version_major": 2,
       "version_minor": 0
      },
      "text/plain": [
       "Validation: |          | 0/? [00:00<?, ?it/s]"
      ]
     },
     "metadata": {},
     "output_type": "display_data"
    },
    {
     "data": {
      "application/vnd.jupyter.widget-view+json": {
       "model_id": "a735a6df0a414a97a98ab6a085f1a58d",
       "version_major": 2,
       "version_minor": 0
      },
      "text/plain": [
       "Validation: |          | 0/? [00:00<?, ?it/s]"
      ]
     },
     "metadata": {},
     "output_type": "display_data"
    },
    {
     "data": {
      "application/vnd.jupyter.widget-view+json": {
       "model_id": "d31e404a20384d65a0e7d9fbfe7b59e0",
       "version_major": 2,
       "version_minor": 0
      },
      "text/plain": [
       "Validation: |          | 0/? [00:00<?, ?it/s]"
      ]
     },
     "metadata": {},
     "output_type": "display_data"
    },
    {
     "data": {
      "application/vnd.jupyter.widget-view+json": {
       "model_id": "c489ded495f54c668bdba70bffd5604f",
       "version_major": 2,
       "version_minor": 0
      },
      "text/plain": [
       "Validation: |          | 0/? [00:00<?, ?it/s]"
      ]
     },
     "metadata": {},
     "output_type": "display_data"
    },
    {
     "data": {
      "application/vnd.jupyter.widget-view+json": {
       "model_id": "2399c197930944d08cbdcb967a3377ac",
       "version_major": 2,
       "version_minor": 0
      },
      "text/plain": [
       "Validation: |          | 0/? [00:00<?, ?it/s]"
      ]
     },
     "metadata": {},
     "output_type": "display_data"
    },
    {
     "data": {
      "application/vnd.jupyter.widget-view+json": {
       "model_id": "18a2ab4b81524cb788b153fc29f449e7",
       "version_major": 2,
       "version_minor": 0
      },
      "text/plain": [
       "Validation: |          | 0/? [00:00<?, ?it/s]"
      ]
     },
     "metadata": {},
     "output_type": "display_data"
    },
    {
     "data": {
      "application/vnd.jupyter.widget-view+json": {
       "model_id": "7c818c197535422ca2071e3233ba678d",
       "version_major": 2,
       "version_minor": 0
      },
      "text/plain": [
       "Validation: |          | 0/? [00:00<?, ?it/s]"
      ]
     },
     "metadata": {},
     "output_type": "display_data"
    },
    {
     "data": {
      "application/vnd.jupyter.widget-view+json": {
       "model_id": "7a0d9821391640f483072758bff19e70",
       "version_major": 2,
       "version_minor": 0
      },
      "text/plain": [
       "Validation: |          | 0/? [00:00<?, ?it/s]"
      ]
     },
     "metadata": {},
     "output_type": "display_data"
    },
    {
     "data": {
      "application/vnd.jupyter.widget-view+json": {
       "model_id": "20ae3e5a0ded403fbc9fe3fe93409710",
       "version_major": 2,
       "version_minor": 0
      },
      "text/plain": [
       "Validation: |          | 0/? [00:00<?, ?it/s]"
      ]
     },
     "metadata": {},
     "output_type": "display_data"
    },
    {
     "data": {
      "application/vnd.jupyter.widget-view+json": {
       "model_id": "e6df1478e3e24ddcada9a21b27ecd9f7",
       "version_major": 2,
       "version_minor": 0
      },
      "text/plain": [
       "Validation: |          | 0/? [00:00<?, ?it/s]"
      ]
     },
     "metadata": {},
     "output_type": "display_data"
    },
    {
     "data": {
      "application/vnd.jupyter.widget-view+json": {
       "model_id": "510e2c4962a645a587e4e67c29bda2d8",
       "version_major": 2,
       "version_minor": 0
      },
      "text/plain": [
       "Validation: |          | 0/? [00:00<?, ?it/s]"
      ]
     },
     "metadata": {},
     "output_type": "display_data"
    },
    {
     "data": {
      "application/vnd.jupyter.widget-view+json": {
       "model_id": "2123085cb129420eac64364704793112",
       "version_major": 2,
       "version_minor": 0
      },
      "text/plain": [
       "Validation: |          | 0/? [00:00<?, ?it/s]"
      ]
     },
     "metadata": {},
     "output_type": "display_data"
    },
    {
     "data": {
      "application/vnd.jupyter.widget-view+json": {
       "model_id": "63811c839be1442bb03d0379e6d64e24",
       "version_major": 2,
       "version_minor": 0
      },
      "text/plain": [
       "Validation: |          | 0/? [00:00<?, ?it/s]"
      ]
     },
     "metadata": {},
     "output_type": "display_data"
    },
    {
     "data": {
      "application/vnd.jupyter.widget-view+json": {
       "model_id": "8a903340bb64410b9f5486235bc3e64b",
       "version_major": 2,
       "version_minor": 0
      },
      "text/plain": [
       "Validation: |          | 0/? [00:00<?, ?it/s]"
      ]
     },
     "metadata": {},
     "output_type": "display_data"
    },
    {
     "data": {
      "application/vnd.jupyter.widget-view+json": {
       "model_id": "36ff36ae7e8e4dd3a66652e7dfcd3ca9",
       "version_major": 2,
       "version_minor": 0
      },
      "text/plain": [
       "Validation: |          | 0/? [00:00<?, ?it/s]"
      ]
     },
     "metadata": {},
     "output_type": "display_data"
    },
    {
     "data": {
      "application/vnd.jupyter.widget-view+json": {
       "model_id": "04608ce66ecc403bb349ef9e253ac141",
       "version_major": 2,
       "version_minor": 0
      },
      "text/plain": [
       "Validation: |          | 0/? [00:00<?, ?it/s]"
      ]
     },
     "metadata": {},
     "output_type": "display_data"
    },
    {
     "data": {
      "application/vnd.jupyter.widget-view+json": {
       "model_id": "03c0cc28375440d083fb111576a26e14",
       "version_major": 2,
       "version_minor": 0
      },
      "text/plain": [
       "Validation: |          | 0/? [00:00<?, ?it/s]"
      ]
     },
     "metadata": {},
     "output_type": "display_data"
    },
    {
     "data": {
      "application/vnd.jupyter.widget-view+json": {
       "model_id": "40754b3c823449ab926d9a769199703c",
       "version_major": 2,
       "version_minor": 0
      },
      "text/plain": [
       "Validation: |          | 0/? [00:00<?, ?it/s]"
      ]
     },
     "metadata": {},
     "output_type": "display_data"
    },
    {
     "data": {
      "application/vnd.jupyter.widget-view+json": {
       "model_id": "d3208796139a4d9d89f0f341e1c611b8",
       "version_major": 2,
       "version_minor": 0
      },
      "text/plain": [
       "Validation: |          | 0/? [00:00<?, ?it/s]"
      ]
     },
     "metadata": {},
     "output_type": "display_data"
    },
    {
     "data": {
      "application/vnd.jupyter.widget-view+json": {
       "model_id": "047b0fcd0d2c46c8b566774ff0605481",
       "version_major": 2,
       "version_minor": 0
      },
      "text/plain": [
       "Validation: |          | 0/? [00:00<?, ?it/s]"
      ]
     },
     "metadata": {},
     "output_type": "display_data"
    },
    {
     "data": {
      "application/vnd.jupyter.widget-view+json": {
       "model_id": "c55d4a622c344181a5beeb55fcf670c7",
       "version_major": 2,
       "version_minor": 0
      },
      "text/plain": [
       "Validation: |          | 0/? [00:00<?, ?it/s]"
      ]
     },
     "metadata": {},
     "output_type": "display_data"
    },
    {
     "data": {
      "application/vnd.jupyter.widget-view+json": {
       "model_id": "36305c871d1940929b96cd40046710da",
       "version_major": 2,
       "version_minor": 0
      },
      "text/plain": [
       "Validation: |          | 0/? [00:00<?, ?it/s]"
      ]
     },
     "metadata": {},
     "output_type": "display_data"
    },
    {
     "data": {
      "application/vnd.jupyter.widget-view+json": {
       "model_id": "920eb1932b61490db7c64db7ecb0a2aa",
       "version_major": 2,
       "version_minor": 0
      },
      "text/plain": [
       "Validation: |          | 0/? [00:00<?, ?it/s]"
      ]
     },
     "metadata": {},
     "output_type": "display_data"
    },
    {
     "data": {
      "application/vnd.jupyter.widget-view+json": {
       "model_id": "13cc4fec6c87437f83a8581b3cab95bd",
       "version_major": 2,
       "version_minor": 0
      },
      "text/plain": [
       "Validation: |          | 0/? [00:00<?, ?it/s]"
      ]
     },
     "metadata": {},
     "output_type": "display_data"
    },
    {
     "data": {
      "application/vnd.jupyter.widget-view+json": {
       "model_id": "1191ea647a1143c091d8cae59b2876dc",
       "version_major": 2,
       "version_minor": 0
      },
      "text/plain": [
       "Validation: |          | 0/? [00:00<?, ?it/s]"
      ]
     },
     "metadata": {},
     "output_type": "display_data"
    },
    {
     "data": {
      "application/vnd.jupyter.widget-view+json": {
       "model_id": "0fda0b678b0e4141baa3b0a4db29ac19",
       "version_major": 2,
       "version_minor": 0
      },
      "text/plain": [
       "Validation: |          | 0/? [00:00<?, ?it/s]"
      ]
     },
     "metadata": {},
     "output_type": "display_data"
    },
    {
     "data": {
      "application/vnd.jupyter.widget-view+json": {
       "model_id": "46a87f8db2ec4db3a1e6deecf8a9b5c7",
       "version_major": 2,
       "version_minor": 0
      },
      "text/plain": [
       "Validation: |          | 0/? [00:00<?, ?it/s]"
      ]
     },
     "metadata": {},
     "output_type": "display_data"
    },
    {
     "data": {
      "application/vnd.jupyter.widget-view+json": {
       "model_id": "af0632a62ab547b3985ebba7b199e5b5",
       "version_major": 2,
       "version_minor": 0
      },
      "text/plain": [
       "Validation: |          | 0/? [00:00<?, ?it/s]"
      ]
     },
     "metadata": {},
     "output_type": "display_data"
    },
    {
     "data": {
      "application/vnd.jupyter.widget-view+json": {
       "model_id": "764a375ec5774ec8a4799ba8910848ca",
       "version_major": 2,
       "version_minor": 0
      },
      "text/plain": [
       "Validation: |          | 0/? [00:00<?, ?it/s]"
      ]
     },
     "metadata": {},
     "output_type": "display_data"
    },
    {
     "data": {
      "application/vnd.jupyter.widget-view+json": {
       "model_id": "4c6cedcdd05d440c8b223d4b83384fe5",
       "version_major": 2,
       "version_minor": 0
      },
      "text/plain": [
       "Validation: |          | 0/? [00:00<?, ?it/s]"
      ]
     },
     "metadata": {},
     "output_type": "display_data"
    },
    {
     "data": {
      "application/vnd.jupyter.widget-view+json": {
       "model_id": "b036f0de70074f58ab09a80f5e260673",
       "version_major": 2,
       "version_minor": 0
      },
      "text/plain": [
       "Validation: |          | 0/? [00:00<?, ?it/s]"
      ]
     },
     "metadata": {},
     "output_type": "display_data"
    },
    {
     "data": {
      "application/vnd.jupyter.widget-view+json": {
       "model_id": "2756b3fd26ff493d814cb9bf51f32b3f",
       "version_major": 2,
       "version_minor": 0
      },
      "text/plain": [
       "Validation: |          | 0/? [00:00<?, ?it/s]"
      ]
     },
     "metadata": {},
     "output_type": "display_data"
    },
    {
     "data": {
      "application/vnd.jupyter.widget-view+json": {
       "model_id": "371047a0277b4cdb9b4f3f290a1983ac",
       "version_major": 2,
       "version_minor": 0
      },
      "text/plain": [
       "Validation: |          | 0/? [00:00<?, ?it/s]"
      ]
     },
     "metadata": {},
     "output_type": "display_data"
    },
    {
     "data": {
      "application/vnd.jupyter.widget-view+json": {
       "model_id": "92ea4f083f2c4aa1ab933469a0e7ff58",
       "version_major": 2,
       "version_minor": 0
      },
      "text/plain": [
       "Validation: |          | 0/? [00:00<?, ?it/s]"
      ]
     },
     "metadata": {},
     "output_type": "display_data"
    },
    {
     "data": {
      "application/vnd.jupyter.widget-view+json": {
       "model_id": "41a471420d5d427fb0e0db3065d5e674",
       "version_major": 2,
       "version_minor": 0
      },
      "text/plain": [
       "Validation: |          | 0/? [00:00<?, ?it/s]"
      ]
     },
     "metadata": {},
     "output_type": "display_data"
    },
    {
     "data": {
      "application/vnd.jupyter.widget-view+json": {
       "model_id": "8bf8a7d9b7f34216afa53e3f4760f78c",
       "version_major": 2,
       "version_minor": 0
      },
      "text/plain": [
       "Validation: |          | 0/? [00:00<?, ?it/s]"
      ]
     },
     "metadata": {},
     "output_type": "display_data"
    },
    {
     "data": {
      "application/vnd.jupyter.widget-view+json": {
       "model_id": "13399149f69f4897aba5dc58fec1244e",
       "version_major": 2,
       "version_minor": 0
      },
      "text/plain": [
       "Validation: |          | 0/? [00:00<?, ?it/s]"
      ]
     },
     "metadata": {},
     "output_type": "display_data"
    },
    {
     "data": {
      "application/vnd.jupyter.widget-view+json": {
       "model_id": "7743ec94785c4b688085b603db7e44bc",
       "version_major": 2,
       "version_minor": 0
      },
      "text/plain": [
       "Validation: |          | 0/? [00:00<?, ?it/s]"
      ]
     },
     "metadata": {},
     "output_type": "display_data"
    },
    {
     "data": {
      "application/vnd.jupyter.widget-view+json": {
       "model_id": "fac7fe6a19c44e1a82a2710ad5f24d02",
       "version_major": 2,
       "version_minor": 0
      },
      "text/plain": [
       "Validation: |          | 0/? [00:00<?, ?it/s]"
      ]
     },
     "metadata": {},
     "output_type": "display_data"
    },
    {
     "data": {
      "application/vnd.jupyter.widget-view+json": {
       "model_id": "79c250af2c2843169a73d89f54cdd7ca",
       "version_major": 2,
       "version_minor": 0
      },
      "text/plain": [
       "Validation: |          | 0/? [00:00<?, ?it/s]"
      ]
     },
     "metadata": {},
     "output_type": "display_data"
    },
    {
     "data": {
      "application/vnd.jupyter.widget-view+json": {
       "model_id": "07754b727b82416ba585618f3e114779",
       "version_major": 2,
       "version_minor": 0
      },
      "text/plain": [
       "Validation: |          | 0/? [00:00<?, ?it/s]"
      ]
     },
     "metadata": {},
     "output_type": "display_data"
    },
    {
     "data": {
      "application/vnd.jupyter.widget-view+json": {
       "model_id": "38e0abde96e5473c93ab35dd40b25340",
       "version_major": 2,
       "version_minor": 0
      },
      "text/plain": [
       "Validation: |          | 0/? [00:00<?, ?it/s]"
      ]
     },
     "metadata": {},
     "output_type": "display_data"
    },
    {
     "data": {
      "application/vnd.jupyter.widget-view+json": {
       "model_id": "b3e959458cf0478eb1c45a3d94e4121e",
       "version_major": 2,
       "version_minor": 0
      },
      "text/plain": [
       "Validation: |          | 0/? [00:00<?, ?it/s]"
      ]
     },
     "metadata": {},
     "output_type": "display_data"
    },
    {
     "data": {
      "application/vnd.jupyter.widget-view+json": {
       "model_id": "c79e2b4a433f42aa908bb980ee1db465",
       "version_major": 2,
       "version_minor": 0
      },
      "text/plain": [
       "Validation: |          | 0/? [00:00<?, ?it/s]"
      ]
     },
     "metadata": {},
     "output_type": "display_data"
    },
    {
     "data": {
      "application/vnd.jupyter.widget-view+json": {
       "model_id": "421f1e15c5994dedbba617c96645d461",
       "version_major": 2,
       "version_minor": 0
      },
      "text/plain": [
       "Validation: |          | 0/? [00:00<?, ?it/s]"
      ]
     },
     "metadata": {},
     "output_type": "display_data"
    },
    {
     "data": {
      "application/vnd.jupyter.widget-view+json": {
       "model_id": "5fdec4642ac945f7ac8f705fd3d47749",
       "version_major": 2,
       "version_minor": 0
      },
      "text/plain": [
       "Validation: |          | 0/? [00:00<?, ?it/s]"
      ]
     },
     "metadata": {},
     "output_type": "display_data"
    },
    {
     "data": {
      "application/vnd.jupyter.widget-view+json": {
       "model_id": "ecff272d28b14812bfdef44d5c0e2dad",
       "version_major": 2,
       "version_minor": 0
      },
      "text/plain": [
       "Validation: |          | 0/? [00:00<?, ?it/s]"
      ]
     },
     "metadata": {},
     "output_type": "display_data"
    },
    {
     "data": {
      "application/vnd.jupyter.widget-view+json": {
       "model_id": "3b0bda4e3e1641bbafba11ac470661bb",
       "version_major": 2,
       "version_minor": 0
      },
      "text/plain": [
       "Validation: |          | 0/? [00:00<?, ?it/s]"
      ]
     },
     "metadata": {},
     "output_type": "display_data"
    },
    {
     "data": {
      "application/vnd.jupyter.widget-view+json": {
       "model_id": "1083d6f88356436e8e3a6c2e1876162b",
       "version_major": 2,
       "version_minor": 0
      },
      "text/plain": [
       "Validation: |          | 0/? [00:00<?, ?it/s]"
      ]
     },
     "metadata": {},
     "output_type": "display_data"
    },
    {
     "data": {
      "application/vnd.jupyter.widget-view+json": {
       "model_id": "07f322b5bd4d4ed995bd1e46a715f6c9",
       "version_major": 2,
       "version_minor": 0
      },
      "text/plain": [
       "Validation: |          | 0/? [00:00<?, ?it/s]"
      ]
     },
     "metadata": {},
     "output_type": "display_data"
    },
    {
     "name": "stderr",
     "output_type": "stream",
     "text": [
      "`Trainer.fit` stopped: `max_epochs=50` reached.\n"
     ]
    }
   ],
   "source": [
    "import lightning as L\n",
    "from pytorch_forecasting.models import NBeats\n",
    "\n",
    "models = {}\n",
    "L.seed_everything(42)\n",
    "\n",
    "for materia, (train_loader, val_loader) in dataloaders.items():\n",
    "    model = NBeats.from_dataset(\n",
    "        datasets[materia][0],     # train_dataset\n",
    "        learning_rate=1e-3,\n",
    "        weight_decay=1e-4,\n",
    "        widths=[256, 256],\n",
    "        backcast_loss_ratio=1.0,\n",
    "    )\n",
    "    trainer = L.Trainer(max_epochs=50, accelerator=\"auto\")\n",
    "    trainer.fit(model, train_loader, val_loader)\n",
    "    models[materia] = model\n"
   ]
  },
  {
   "cell_type": "markdown",
   "id": "8b374c75",
   "metadata": {},
   "source": [
    "# evaluacion de parámetros"
   ]
  },
  {
   "cell_type": "markdown",
   "id": "1d7d29c6",
   "metadata": {},
   "source": [
    "Ahora con el modelo entrenado se van a evaluar los parámetros"
   ]
  },
  {
   "cell_type": "code",
   "execution_count": 35,
   "id": "1a04c933",
   "metadata": {},
   "outputs": [
    {
     "name": "stderr",
     "output_type": "stream",
     "text": [
      "💡 Tip: For seamless cloud uploads and versioning, try installing [litmodels](https://pypi.org/project/litmodels/) to enable LitModelCheckpoint, which syncs automatically with the Lightning model registry.\n",
      "GPU available: False, used: False\n",
      "TPU available: False, using: 0 TPU cores\n",
      "HPU available: False, using: 0 HPUs\n",
      "c:\\Users\\pinto\\OneDrive\\Documentos\\DK\\Prueba Técnica Cientifico de Datos\\Prueba1\\.venv\\Lib\\site-packages\\lightning\\pytorch\\trainer\\connectors\\data_connector.py:433: The 'predict_dataloader' does not have many workers which may be a bottleneck. Consider increasing the value of the `num_workers` argument` to `num_workers=19` in the `DataLoader` to improve performance.\n",
      "💡 Tip: For seamless cloud uploads and versioning, try installing [litmodels](https://pypi.org/project/litmodels/) to enable LitModelCheckpoint, which syncs automatically with the Lightning model registry.\n",
      "GPU available: False, used: False\n",
      "TPU available: False, using: 0 TPU cores\n",
      "HPU available: False, using: 0 HPUs\n",
      "c:\\Users\\pinto\\OneDrive\\Documentos\\DK\\Prueba Técnica Cientifico de Datos\\Prueba1\\.venv\\Lib\\site-packages\\lightning\\pytorch\\trainer\\connectors\\data_connector.py:433: The 'predict_dataloader' does not have many workers which may be a bottleneck. Consider increasing the value of the `num_workers` argument` to `num_workers=19` in the `DataLoader` to improve performance.\n",
      "💡 Tip: For seamless cloud uploads and versioning, try installing [litmodels](https://pypi.org/project/litmodels/) to enable LitModelCheckpoint, which syncs automatically with the Lightning model registry.\n",
      "GPU available: False, used: False\n",
      "TPU available: False, using: 0 TPU cores\n",
      "HPU available: False, using: 0 HPUs\n",
      "c:\\Users\\pinto\\OneDrive\\Documentos\\DK\\Prueba Técnica Cientifico de Datos\\Prueba1\\.venv\\Lib\\site-packages\\lightning\\pytorch\\trainer\\connectors\\data_connector.py:433: The 'predict_dataloader' does not have many workers which may be a bottleneck. Consider increasing the value of the `num_workers` argument` to `num_workers=19` in the `DataLoader` to improve performance.\n"
     ]
    },
    {
     "name": "stdout",
     "output_type": "stream",
     "text": [
      "Métricas agregadas por serie:\n",
      "   serie         MAE        RMSE      MAPE\n",
      "0   P_x    7.924140    9.004922  9.774773\n",
      "1   P_y   29.009705   36.732410  4.984343\n",
      "2   P_z  119.590576  157.738647  5.042074\n",
      "\n",
      "Métricas por horizonte (head):\n",
      "    serie  h         MAE        RMSE       MAPE\n",
      "0    P_x  1    7.175948    8.120532   8.838475\n",
      "1    P_x  2    8.091460    9.186582   9.973889\n",
      "2    P_x  3    8.053143    9.191393   9.930342\n",
      "3    P_x  4    8.376006    9.462369  10.356382\n",
      "4    P_y  1   24.272575   30.181534   4.212106\n",
      "5    P_y  2   26.949463   31.380466   4.654167\n",
      "6    P_y  3   28.219021   32.752468   4.853318\n",
      "7    P_y  4   36.597752   49.281822   6.217777\n",
      "8    P_z  1   87.284859  119.472633   3.659264\n",
      "9    P_z  2  105.502228  143.565735   4.428941\n",
      "10   P_z  3  132.276184  170.353546   5.574168\n",
      "11   P_z  4  153.299072  188.734650   6.505924\n"
     ]
    }
   ],
   "source": [
    "import torch\n",
    "from sklearn.metrics import mean_absolute_error, mean_squared_error\n",
    "\n",
    "def _mape(a, f):\n",
    "    return np.mean(np.abs((a - f) / np.clip(np.abs(a), 1e-8, None))) * 100\n",
    "\n",
    "all_metrics = []\n",
    "per_horizon_metrics = []\n",
    "pred_store = {}\n",
    "\n",
    "for materia, model in models.items():\n",
    "    train_loader, val_loader = dataloaders[materia]\n",
    "\n",
    "    # Pide predicciones + índice y también X (para recuperar y_true si viene None)\n",
    "    result = model.predict(\n",
    "        val_loader,\n",
    "        return_y=True,\n",
    "        return_index=True,\n",
    "        return_x=True,         # <- clave para el fallback\n",
    "    )\n",
    "\n",
    "    # Desempaqueta con seguridad (PF puede devolver lista/tupla larga)\n",
    "    # order habitual: pred, index, y, x   (pero usamos slicing defensivo)\n",
    "    pred = result[0]\n",
    "    # Busca idx, y, x por tipo de dato\n",
    "    idx = next((r for r in result if isinstance(r, pd.DataFrame)), None)\n",
    "    y   = next((r for r in result if (torch.is_tensor(r) or (isinstance(r, list) and r and torch.is_tensor(r[0]))) and r is not pred), None)\n",
    "    x   = next((r for r in result if isinstance(r, dict) or (isinstance(r, list) and r and isinstance(r[0], dict))), None)\n",
    "\n",
    "    # Tensores -> concat\n",
    "    if isinstance(pred, list): pred = torch.cat(pred, dim=0)\n",
    "    if isinstance(y, list):    y    = torch.cat(y, dim=0)\n",
    "    if isinstance(x, list):    x    = {k: torch.cat([d[k] for d in x], dim=0) for k in x[0].keys()}\n",
    "\n",
    "    # Fallback: si y es None, recupéralo desde x[\"decoder_target\"]\n",
    "    if y is None:\n",
    "        if isinstance(x, dict) and \"decoder_target\" in x:\n",
    "            y = x[\"decoder_target\"]\n",
    "        else:\n",
    "            raise RuntimeError(\"No se pudo recuperar y_true (ni return_y ni x['decoder_target']).\")\n",
    "\n",
    "    # A numpy\n",
    "    y_pred = pred.detach().cpu().numpy()    # [N, H]\n",
    "    y_true = y.detach().cpu().numpy()       # [N, H]\n",
    "\n",
    "    # Métricas agregadas\n",
    "    mae  = mean_absolute_error(y_true.ravel(), y_pred.ravel())\n",
    "    rmse = mean_squared_error(y_true.ravel(), y_pred.ravel(), squared=False)\n",
    "    mape = _mape(y_true.ravel(), y_pred.ravel())\n",
    "    all_metrics.append({\"serie\": materia, \"MAE\": mae, \"RMSE\": rmse, \"MAPE\": mape})\n",
    "\n",
    "    # Métricas por horizonte\n",
    "    H = y_pred.shape[1]\n",
    "    for h in range(H):\n",
    "        mae_h  = mean_absolute_error(y_true[:, h], y_pred[:, h])\n",
    "        rmse_h = mean_squared_error(y_true[:, h], y_pred[:, h], squared=False)\n",
    "        mape_h = _mape(y_true[:, h], y_pred[:, h])\n",
    "        per_horizon_metrics.append({\"serie\": materia, \"h\": h+1, \"MAE\": mae_h, \"RMSE\": rmse_h, \"MAPE\": mape_h})\n",
    "\n",
    "    # DF largo para graficar/ensamblar serie continua\n",
    "    # (idx puede llamar a la columna 'series' o 'serie', y 'time_idx' o 'time')\n",
    "    series_col = \"series\" if \"series\" in idx.columns else \"serie\"\n",
    "    time_col   = \"time_idx\" if \"time_idx\" in idx.columns else \"time\"\n",
    "\n",
    "    df_eval = pd.DataFrame({\n",
    "        \"serie\": np.repeat(idx[series_col].values, H),\n",
    "        \"base_time_idx\": np.repeat(idx[time_col].values, H),\n",
    "        \"h\": np.tile(np.arange(1, H+1), len(idx)),\n",
    "        \"y_true\": y_true.ravel(),\n",
    "        \"y_pred\": y_pred.ravel(),\n",
    "    })\n",
    "    pred_store[materia] = df_eval\n",
    "\n",
    "# Tablas de métricas\n",
    "df_metrics  = pd.DataFrame(all_metrics).sort_values(\"serie\")\n",
    "df_metrics_h= pd.DataFrame(per_horizon_metrics).sort_values([\"serie\",\"h\"])\n",
    "print(\"Métricas agregadas por serie:\\n\", df_metrics)\n",
    "print(\"\\nMétricas por horizonte (head):\\n\", df_metrics_h.head(12))\n",
    "\n",
    "# df_metrics.to_csv(\"metrics_por_serie.csv\", index=False)\n",
    "# df_metrics_h.to_csv(\"metrics_por_horizonte.csv\", index=False)\n",
    "# print(\"-> metrics_por_serie.csv / metrics_por_horizonte.csv guardados\")\n"
   ]
  },
  {
   "cell_type": "markdown",
   "id": "ba13bd5e",
   "metadata": {},
   "source": [
    "Para graficar la validacion "
   ]
  },
  {
   "cell_type": "code",
   "execution_count": 39,
   "id": "93996846",
   "metadata": {},
   "outputs": [
    {
     "data": {
      "image/png": "[encoded data removed]",
      "text/plain": [
       "<Figure size 1000x400 with 1 Axes>"
      ]
     },
     "metadata": {},
     "output_type": "display_data"
    },
    {
     "name": "stdout",
     "output_type": "stream",
     "text": [
      "-> plotdata_P_x_valid.csv guardado\n"
     ]
    },
    {
     "data": {
      "image/png": "[encoded data removed]",
      "text/plain": [
       "<Figure size 1000x400 with 1 Axes>"
      ]
     },
     "metadata": {},
     "output_type": "display_data"
    },
    {
     "name": "stdout",
     "output_type": "stream",
     "text": [
      "-> plotdata_P_y_valid.csv guardado\n"
     ]
    },
    {
     "data": {
      "image/png": "[encoded data removed]",
      "text/plain": [
       "<Figure size 1000x400 with 1 Axes>"
      ]
     },
     "metadata": {},
     "output_type": "display_data"
    },
    {
     "name": "stdout",
     "output_type": "stream",
     "text": [
      "-> plotdata_P_z_valid.csv guardado\n"
     ]
    }
   ],
   "source": [
    "import matplotlib.pyplot as plt\n",
    "\n",
    "# mapa de fechas\n",
    "date_maps = {\n",
    "    s: df_long[df_long[\"series\"] == s].set_index(\"time_idx\")[\"Date\"].to_dict()\n",
    "    for s in [\"P_x\",\"P_y\",\"P_z\"]\n",
    "}\n",
    "\n",
    "def build_continuous_forecast(df_eval, serie):\n",
    "    df_eval = df_eval.copy()\n",
    "    df_eval[\"time_idx_tgt\"] = df_eval[\"base_time_idx\"] + df_eval[\"h\"]\n",
    "    tm = date_maps[serie]\n",
    "    df_eval[\"Date\"] = df_eval[\"time_idx_tgt\"].map(tm)\n",
    "    df_eval = df_eval.dropna(subset=[\"Date\"]).copy()\n",
    "    agg = (df_eval.groupby(\"Date\", as_index=False)[[\"y_true\",\"y_pred\"]]\n",
    "                 .mean().sort_values(\"Date\"))\n",
    "    return agg\n",
    "\n",
    "for materia in [\"P_x\",\"P_y\",\"P_z\"]:\n",
    "    curve = build_continuous_forecast(pred_store[materia], materia)\n",
    "    first_date = curve[\"Date\"].min()\n",
    "    truth = (df_long[(df_long[\"series\"] == materia) & (df_long[\"Date\"] >= first_date)]\n",
    "             .sort_values(\"Date\")[[\"Date\",\"precio\"]])\n",
    "\n",
    "    plt.figure(figsize=(10,4))\n",
    "    plt.plot(truth[\"Date\"], truth[\"precio\"], label=\"Real (validación)\")\n",
    "    plt.plot(curve[\"Date\"], curve[\"y_pred\"],   label=\"Predicción (promedio solapes)\")\n",
    "    plt.title(f\"{materia}: Real vs Predicción (valid)\")\n",
    "    plt.xlabel(\"Fecha\"); plt.ylabel(\"Precio\")\n",
    "    plt.legend(); plt.tight_layout()\n",
    "    plt.show()\n",
    "\n",
    "    out = truth.merge(curve, on=\"Date\", how=\"outer\").sort_values(\"Date\")\n",
    "    #out.to_csv(f\"plotdata_{materia}_valid.csv\", index=False)\n",
    "    print(f\"-> plotdata_{materia}_valid.csv guardado\")\n"
   ]
  },
  {
   "cell_type": "code",
   "execution_count": 37,
   "id": "b565a765",
   "metadata": {},
   "outputs": [
    {
     "data": {
      "image/png": "[encoded data removed]",
      "text/plain": [
       "<Figure size 1200x600 with 1 Axes>"
      ]
     },
     "metadata": {},
     "output_type": "display_data"
    }
   ],
   "source": [
    "\n",
    "# --- helpers que ya usamos antes ---\n",
    "date_maps = {\n",
    "    s: df_long[df_long[\"series\"] == s].set_index(\"time_idx\")[\"Date\"].to_dict()\n",
    "    for s in [\"P_x\",\"P_y\",\"P_z\"]\n",
    "}\n",
    "\n",
    "def build_continuous_forecast(df_eval, serie):\n",
    "    df_eval = df_eval.copy()\n",
    "    df_eval[\"time_idx_tgt\"] = df_eval[\"base_time_idx\"] + df_eval[\"h\"]\n",
    "    tm = date_maps[serie]\n",
    "    df_eval[\"Date\"] = df_eval[\"time_idx_tgt\"].map(tm)\n",
    "    df_eval = df_eval.dropna(subset=[\"Date\"]).copy()\n",
    "    agg = (df_eval.groupby(\"Date\", as_index=False)[[\"y_true\",\"y_pred\"]]\n",
    "                 .mean().sort_values(\"Date\"))\n",
    "    return agg\n",
    "\n",
    "# --- construye curvas continuo (validación) para cada serie ---\n",
    "curves = {}\n",
    "truths = {}\n",
    "for materia in [\"P_x\",\"P_y\",\"P_z\"]:\n",
    "    curve = build_continuous_forecast(pred_store[materia], materia)\n",
    "    first_date = curve[\"Date\"].min()\n",
    "    truth = (df_long[(df_long[\"series\"] == materia) & (df_long[\"Date\"] >= first_date)]\n",
    "             .sort_values(\"Date\")[[\"Date\",\"precio\"]])\n",
    "    curves[materia] = curve\n",
    "    truths[materia] = truth\n",
    "\n",
    "# --- ploteo en UNA figura ---\n",
    "plt.figure(figsize=(12,6))\n",
    "\n",
    "colors = {\"P_x\":\"C0\", \"P_y\":\"C1\", \"P_z\":\"C2\"}  # paleta por serie\n",
    "\n",
    "for materia in [\"P_x\",\"P_y\",\"P_z\"]:\n",
    "    # Real (validación)\n",
    "    plt.plot(\n",
    "        truths[materia][\"Date\"], truths[materia][\"precio\"],\n",
    "        label=f\"{materia} - Real\", linewidth=1.8, color=colors[materia]\n",
    "    )\n",
    "    # Predicción (promedio de solapes)\n",
    "    plt.plot(\n",
    "        curves[materia][\"Date\"], curves[materia][\"y_pred\"],\n",
    "        label=f\"{materia} - Pred\", linewidth=1.8, linestyle=\"--\", color=colors[materia]\n",
    "    )\n",
    "\n",
    "plt.title(\"Real vs Predicción (validación) — P_x, P_y, P_z\")\n",
    "plt.xlabel(\"Fecha\"); plt.ylabel(\"Precio\")\n",
    "plt.legend(ncol=3, frameon=False)\n",
    "plt.grid(True, alpha=0.25)\n",
    "plt.tight_layout()\n",
    "plt.show()\n"
   ]
  },
  {
   "cell_type": "markdown",
   "id": "115d81e2",
   "metadata": {},
   "source": [
    "ahora graficando la historia completa"
   ]
  },
  {
   "cell_type": "code",
   "execution_count": 38,
   "id": "70b3abe3",
   "metadata": {},
   "outputs": [
    {
     "name": "stderr",
     "output_type": "stream",
     "text": [
      "💡 Tip: For seamless cloud uploads and versioning, try installing [litmodels](https://pypi.org/project/litmodels/) to enable LitModelCheckpoint, which syncs automatically with the Lightning model registry.\n",
      "GPU available: False, used: False\n",
      "TPU available: False, using: 0 TPU cores\n",
      "HPU available: False, using: 0 HPUs\n",
      "c:\\Users\\pinto\\OneDrive\\Documentos\\DK\\Prueba Técnica Cientifico de Datos\\Prueba1\\.venv\\Lib\\site-packages\\lightning\\pytorch\\trainer\\connectors\\data_connector.py:433: The 'predict_dataloader' does not have many workers which may be a bottleneck. Consider increasing the value of the `num_workers` argument` to `num_workers=19` in the `DataLoader` to improve performance.\n",
      "💡 Tip: For seamless cloud uploads and versioning, try installing [litmodels](https://pypi.org/project/litmodels/) to enable LitModelCheckpoint, which syncs automatically with the Lightning model registry.\n",
      "GPU available: False, used: False\n",
      "TPU available: False, using: 0 TPU cores\n",
      "HPU available: False, using: 0 HPUs\n",
      "c:\\Users\\pinto\\OneDrive\\Documentos\\DK\\Prueba Técnica Cientifico de Datos\\Prueba1\\.venv\\Lib\\site-packages\\lightning\\pytorch\\trainer\\connectors\\data_connector.py:433: The 'predict_dataloader' does not have many workers which may be a bottleneck. Consider increasing the value of the `num_workers` argument` to `num_workers=19` in the `DataLoader` to improve performance.\n",
      "💡 Tip: For seamless cloud uploads and versioning, try installing [litmodels](https://pypi.org/project/litmodels/) to enable LitModelCheckpoint, which syncs automatically with the Lightning model registry.\n",
      "GPU available: False, used: False\n",
      "TPU available: False, using: 0 TPU cores\n",
      "HPU available: False, using: 0 HPUs\n",
      "c:\\Users\\pinto\\OneDrive\\Documentos\\DK\\Prueba Técnica Cientifico de Datos\\Prueba1\\.venv\\Lib\\site-packages\\lightning\\pytorch\\trainer\\connectors\\data_connector.py:433: The 'predict_dataloader' does not have many workers which may be a bottleneck. Consider increasing the value of the `num_workers` argument` to `num_workers=19` in the `DataLoader` to improve performance.\n"
     ]
    },
    {
     "data": {
      "image/png": "[encoded data removed]",
      "text/plain": [
       "<Figure size 1200x600 with 1 Axes>"
      ]
     },
     "metadata": {},
     "output_type": "display_data"
    }
   ],
   "source": [
    "import numpy as np\n",
    "import pandas as pd\n",
    "import torch\n",
    "import matplotlib.pyplot as plt\n",
    "\n",
    "# 1) mapa time_idx -> fecha por serie\n",
    "date_maps = {\n",
    "    s: df_long[df_long[\"series\"] == s].set_index(\"time_idx\")[\"Date\"].to_dict()\n",
    "    for s in [\"P_x\",\"P_y\",\"P_z\"]\n",
    "}\n",
    "\n",
    "# 2) curva de predicción alineada con fechas usando decoder_time_idx (válido para val_loader)\n",
    "def curve_from_loader(model, loader, serie):\n",
    "    result = model.predict(loader, return_index=True, return_y=True, return_x=True)\n",
    "\n",
    "    pred = result[0]\n",
    "    idx  = next(r for r in result if isinstance(r, pd.DataFrame))\n",
    "    x    = next(r for r in result if isinstance(r, dict) or (isinstance(r, list) and r and isinstance(r[0], dict)))\n",
    "    y    = next((r for r in result if (torch.is_tensor(r) or (isinstance(r, list) and r and torch.is_tensor(r[0]))) and r is not pred), None)\n",
    "\n",
    "    if isinstance(pred, list): pred = torch.cat(pred, dim=0)\n",
    "    if isinstance(y, list):    y    = torch.cat(y, dim=0)\n",
    "    if isinstance(x, list):    x    = {k: torch.cat([d[k] for d in x], dim=0) for k in x[0].keys()}\n",
    "    if y is None: y = x[\"decoder_target\"]\n",
    "\n",
    "    t_dec  = x[\"decoder_time_idx\"].detach().cpu().numpy().astype(int).ravel()\n",
    "    dates  = np.array([date_maps[serie].get(ti, np.datetime64(\"NaT\")) for ti in t_dec])\n",
    "    y_pred = pred.detach().cpu().numpy().ravel()\n",
    "\n",
    "    df_curve = pd.DataFrame({\"Date\": dates, \"y_pred\": y_pred}).dropna()\n",
    "    return df_curve.groupby(\"Date\", as_index=False)[\"y_pred\"].mean().sort_values(\"Date\")\n",
    "\n",
    "# 3) curvas de validación + verdad completa\n",
    "curves = {}\n",
    "truth_all = {}\n",
    "vmins, vmaxs = [], []\n",
    "for s in [\"P_x\",\"P_y\",\"P_z\"]:\n",
    "    _, val_loader = dataloaders[s]\n",
    "    curves[s] = curve_from_loader(models[s], val_loader, s)     # pred en validación\n",
    "    truth_all[s] = (df_long[df_long[\"series\"] == s]\n",
    "                    .sort_values(\"Date\")[[\"Date\",\"precio\"]])    # toda la historia\n",
    "    vmins.append(curves[s][\"Date\"].min()); vmaxs.append(curves[s][\"Date\"].max())\n",
    "\n",
    "v_start, v_end = min(vmins), max(vmaxs)  # rango de validación (para sombrear)\n",
    "\n",
    "# 4) ploteo: historia completa + pred sobre el tramo donde existe\n",
    "plt.figure(figsize=(12,6))\n",
    "colors = {\"P_x\":\"C0\",\"P_y\":\"C1\",\"P_z\":\"C2\"}\n",
    "\n",
    "for s in [\"P_x\",\"P_y\",\"P_z\"]:\n",
    "    # Real: TODA la historia\n",
    "    plt.plot(truth_all[s][\"Date\"], truth_all[s][\"precio\"], color=colors[s], lw=1.6, label=f\"{s} - Real\")\n",
    "    # Pred: sólo donde tenemos predicciones (validación)\n",
    "    plt.plot(curves[s][\"Date\"], curves[s][\"y_pred\"], color=colors[s], lw=1.8, ls=\"--\", label=f\"{s} - Pred (val)\")\n",
    "\n",
    "# sombrear período de validación\n",
    "plt.axvspan(v_start, v_end, color=\"grey\", alpha=0.08, label=\"Validación\")\n",
    "\n",
    "plt.title(\"Historia completa (real) + Predicción en validación — P_x, P_y, P_z\")\n",
    "plt.xlabel(\"Fecha\"); plt.ylabel(\"Precio\")\n",
    "plt.grid(alpha=0.25); plt.legend(ncol=2, frameon=False)\n",
    "plt.tight_layout(); plt.show()\n"
   ]
  }
 ],
 "metadata": {
  "kernelspec": {
   "display_name": ".venv",
   "language": "python",
   "name": "python3"
  },
  "language_info": {
   "codemirror_mode": {
    "name": "ipython",
    "version": 3
   },
   "file_extension": ".py",
   "mimetype": "text/x-python",
   "name": "python",
   "nbconvert_exporter": "python",
   "pygments_lexer": "ipython3",
   "version": "3.11.0"
  }
 },
 "nbformat": 4,
 "nbformat_minor": 5
}
